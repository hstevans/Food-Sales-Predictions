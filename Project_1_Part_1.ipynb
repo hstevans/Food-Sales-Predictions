{
  "nbformat": 4,
  "nbformat_minor": 0,
  "metadata": {
    "colab": {
      "provenance": [],
      "authorship_tag": "ABX9TyNHVnZqndmaW/JHkOJZu81C",
      "include_colab_link": true
    },
    "kernelspec": {
      "name": "python3",
      "display_name": "Python 3"
    },
    "language_info": {
      "name": "python"
    }
  },
  "cells": [
    {
      "cell_type": "markdown",
      "metadata": {
        "id": "view-in-github",
        "colab_type": "text"
      },
      "source": [
        "<a href=\"https://colab.research.google.com/github/hstevans/Food-Sales-Predictions/blob/main/Project_1_Part_1.ipynb\" target=\"_parent\"><img src=\"https://colab.research.google.com/assets/colab-badge.svg\" alt=\"Open In Colab\"/></a>"
      ]
    },
    {
      "cell_type": "markdown",
      "source": [
        "# Project 1 - Part 1\n",
        "  Hollyann Stevans"
      ],
      "metadata": {
        "id": "kPGzsfQSgFv7"
      }
    },
    {
      "cell_type": "code",
      "source": [],
      "metadata": {
        "id": "xLY_5RAUg_Ho"
      },
      "execution_count": null,
      "outputs": []
    },
    {
      "cell_type": "markdown",
      "source": [
        "## Loading Data"
      ],
      "metadata": {
        "id": "6d64i2ifgTeT"
      }
    },
    {
      "cell_type": "code",
      "source": [],
      "metadata": {
        "id": "i-XqB7drhBUl"
      },
      "execution_count": null,
      "outputs": []
    },
    {
      "cell_type": "markdown",
      "source": [
        "## Data Cleaning"
      ],
      "metadata": {
        "id": "3tYMCbPDgkKC"
      }
    },
    {
      "cell_type": "code",
      "source": [],
      "metadata": {
        "id": "P82z9Ao7hCsS"
      },
      "execution_count": null,
      "outputs": []
    },
    {
      "cell_type": "markdown",
      "source": [
        "## Exploratory Visuals"
      ],
      "metadata": {
        "id": "Vp_Iknu-gpEB"
      }
    },
    {
      "cell_type": "code",
      "source": [],
      "metadata": {
        "id": "dg7EORQbhDpo"
      },
      "execution_count": null,
      "outputs": []
    },
    {
      "cell_type": "markdown",
      "source": [
        "## Explanatory Visuals"
      ],
      "metadata": {
        "id": "vUPUAVkPgwLK"
      }
    },
    {
      "cell_type": "code",
      "source": [],
      "metadata": {
        "id": "RFXSNsIbhExU"
      },
      "execution_count": null,
      "outputs": []
    }
  ]
}