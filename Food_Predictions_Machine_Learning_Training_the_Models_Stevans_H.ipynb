{
  "nbformat": 4,
  "nbformat_minor": 0,
  "metadata": {
    "colab": {
      "provenance": [],
      "mount_file_id": "1YEu9_9mZr63Frz34RfAT0U6z8YBacSXu",
      "authorship_tag": "ABX9TyNHbdVzyfHufDbfKB/zA4I2",
      "include_colab_link": true
    },
    "kernelspec": {
      "name": "python3",
      "display_name": "Python 3"
    },
    "language_info": {
      "name": "python"
    }
  },
  "cells": [
    {
      "cell_type": "markdown",
      "metadata": {
        "id": "view-in-github",
        "colab_type": "text"
      },
      "source": [
        "<a href=\"https://colab.research.google.com/github/hstevans/Food-Sales-Predictions/blob/main/Food_Predictions_Machine_Learning_Training_the_Models_Stevans_H.ipynb\" target=\"_parent\"><img src=\"https://colab.research.google.com/assets/colab-badge.svg\" alt=\"Open In Colab\"/></a>"
      ]
    },
    {
      "cell_type": "markdown",
      "source": [
        "#Pre-Processing for Machine Learning"
      ],
      "metadata": {
        "id": "Ne6aoKRK_mSP"
      }
    },
    {
      "cell_type": "markdown",
      "source": [
        "##Task:\n",
        "\n",
        "Identify the target (X) and features (y)\n",
        "\n",
        "We will assign the 'Item_Outlet_Sales' as the target and the rest of the relevant variables as the features matrix.\n",
        "\n",
        "Perform a train test split\n",
        "\n",
        "Create a pre processing pipeline to prepare the dataset for Machine Learning"
      ],
      "metadata": {
        "id": "Pc7zbsou_vXJ"
      }
    },
    {
      "cell_type": "markdown",
      "source": [
        "##Uploading Data & Imports"
      ],
      "metadata": {
        "id": "VTLiZR0ZATSR"
      }
    },
    {
      "cell_type": "code",
      "source": [
        "import pandas as pd\n",
        "import numpy as np\n",
        "import matplotlib.pyplot as plt\n",
        "from sklearn.preprocessing import StandardScaler, OneHotEncoder\n",
        "from sklearn.impute import SimpleImputer\n",
        "from sklearn.compose import make_column_transformer, make_column_selector\n",
        "from sklearn.pipeline import make_pipeline\n",
        "from sklearn.model_selection import train_test_split\n",
        "from sklearn import set_config\n",
        "set_config(display='diagram')\n",
        "from sklearn.linear_model import LinearRegression\n",
        "from sklearn.metrics import r2_score, mean_squared_error, mean_absolute_error\n",
        "from sklearn.tree import DecisionTreeRegressor\n",
        "from sklearn.ensemble import BaggingRegressor\n",
        "from sklearn.ensemble import RandomForestRegressor"
      ],
      "metadata": {
        "id": "jONfjLmnAYKM"
      },
      "execution_count": 114,
      "outputs": []
    },
    {
      "cell_type": "code",
      "source": [
        "filename = '/content/drive/MyDrive/sales_predictions.csv'\n",
        "df = pd.read_csv(filename)\n",
        "df.info()\n",
        "df.head()"
      ],
      "metadata": {
        "colab": {
          "base_uri": "https://localhost:8080/",
          "height": 552
        },
        "id": "ttBpdGPoAfgb",
        "outputId": "acd40c37-5be9-4dca-c854-a31d8904167a"
      },
      "execution_count": 115,
      "outputs": [
        {
          "output_type": "stream",
          "name": "stdout",
          "text": [
            "<class 'pandas.core.frame.DataFrame'>\n",
            "RangeIndex: 8523 entries, 0 to 8522\n",
            "Data columns (total 12 columns):\n",
            " #   Column                     Non-Null Count  Dtype  \n",
            "---  ------                     --------------  -----  \n",
            " 0   Item_Identifier            8523 non-null   object \n",
            " 1   Item_Weight                7060 non-null   float64\n",
            " 2   Item_Fat_Content           8523 non-null   object \n",
            " 3   Item_Visibility            8523 non-null   float64\n",
            " 4   Item_Type                  8523 non-null   object \n",
            " 5   Item_MRP                   8523 non-null   float64\n",
            " 6   Outlet_Identifier          8523 non-null   object \n",
            " 7   Outlet_Establishment_Year  8523 non-null   int64  \n",
            " 8   Outlet_Size                6113 non-null   object \n",
            " 9   Outlet_Location_Type       8523 non-null   object \n",
            " 10  Outlet_Type                8523 non-null   object \n",
            " 11  Item_Outlet_Sales          8523 non-null   float64\n",
            "dtypes: float64(4), int64(1), object(7)\n",
            "memory usage: 799.2+ KB\n"
          ]
        },
        {
          "output_type": "execute_result",
          "data": {
            "text/plain": [
              "  Item_Identifier  Item_Weight Item_Fat_Content  Item_Visibility  \\\n",
              "0           FDA15         9.30          Low Fat         0.016047   \n",
              "1           DRC01         5.92          Regular         0.019278   \n",
              "2           FDN15        17.50          Low Fat         0.016760   \n",
              "3           FDX07        19.20          Regular         0.000000   \n",
              "4           NCD19         8.93          Low Fat         0.000000   \n",
              "\n",
              "               Item_Type  Item_MRP Outlet_Identifier  \\\n",
              "0                  Dairy  249.8092            OUT049   \n",
              "1            Soft Drinks   48.2692            OUT018   \n",
              "2                   Meat  141.6180            OUT049   \n",
              "3  Fruits and Vegetables  182.0950            OUT010   \n",
              "4              Household   53.8614            OUT013   \n",
              "\n",
              "   Outlet_Establishment_Year Outlet_Size Outlet_Location_Type  \\\n",
              "0                       1999      Medium               Tier 1   \n",
              "1                       2009      Medium               Tier 3   \n",
              "2                       1999      Medium               Tier 1   \n",
              "3                       1998         NaN               Tier 3   \n",
              "4                       1987        High               Tier 3   \n",
              "\n",
              "         Outlet_Type  Item_Outlet_Sales  \n",
              "0  Supermarket Type1          3735.1380  \n",
              "1  Supermarket Type2           443.4228  \n",
              "2  Supermarket Type1          2097.2700  \n",
              "3      Grocery Store           732.3800  \n",
              "4  Supermarket Type1           994.7052  "
            ],
            "text/html": [
              "\n",
              "  <div id=\"df-32eb4b01-2dd5-4aa3-b93c-7036ec7fbdc6\">\n",
              "    <div class=\"colab-df-container\">\n",
              "      <div>\n",
              "<style scoped>\n",
              "    .dataframe tbody tr th:only-of-type {\n",
              "        vertical-align: middle;\n",
              "    }\n",
              "\n",
              "    .dataframe tbody tr th {\n",
              "        vertical-align: top;\n",
              "    }\n",
              "\n",
              "    .dataframe thead th {\n",
              "        text-align: right;\n",
              "    }\n",
              "</style>\n",
              "<table border=\"1\" class=\"dataframe\">\n",
              "  <thead>\n",
              "    <tr style=\"text-align: right;\">\n",
              "      <th></th>\n",
              "      <th>Item_Identifier</th>\n",
              "      <th>Item_Weight</th>\n",
              "      <th>Item_Fat_Content</th>\n",
              "      <th>Item_Visibility</th>\n",
              "      <th>Item_Type</th>\n",
              "      <th>Item_MRP</th>\n",
              "      <th>Outlet_Identifier</th>\n",
              "      <th>Outlet_Establishment_Year</th>\n",
              "      <th>Outlet_Size</th>\n",
              "      <th>Outlet_Location_Type</th>\n",
              "      <th>Outlet_Type</th>\n",
              "      <th>Item_Outlet_Sales</th>\n",
              "    </tr>\n",
              "  </thead>\n",
              "  <tbody>\n",
              "    <tr>\n",
              "      <th>0</th>\n",
              "      <td>FDA15</td>\n",
              "      <td>9.30</td>\n",
              "      <td>Low Fat</td>\n",
              "      <td>0.016047</td>\n",
              "      <td>Dairy</td>\n",
              "      <td>249.8092</td>\n",
              "      <td>OUT049</td>\n",
              "      <td>1999</td>\n",
              "      <td>Medium</td>\n",
              "      <td>Tier 1</td>\n",
              "      <td>Supermarket Type1</td>\n",
              "      <td>3735.1380</td>\n",
              "    </tr>\n",
              "    <tr>\n",
              "      <th>1</th>\n",
              "      <td>DRC01</td>\n",
              "      <td>5.92</td>\n",
              "      <td>Regular</td>\n",
              "      <td>0.019278</td>\n",
              "      <td>Soft Drinks</td>\n",
              "      <td>48.2692</td>\n",
              "      <td>OUT018</td>\n",
              "      <td>2009</td>\n",
              "      <td>Medium</td>\n",
              "      <td>Tier 3</td>\n",
              "      <td>Supermarket Type2</td>\n",
              "      <td>443.4228</td>\n",
              "    </tr>\n",
              "    <tr>\n",
              "      <th>2</th>\n",
              "      <td>FDN15</td>\n",
              "      <td>17.50</td>\n",
              "      <td>Low Fat</td>\n",
              "      <td>0.016760</td>\n",
              "      <td>Meat</td>\n",
              "      <td>141.6180</td>\n",
              "      <td>OUT049</td>\n",
              "      <td>1999</td>\n",
              "      <td>Medium</td>\n",
              "      <td>Tier 1</td>\n",
              "      <td>Supermarket Type1</td>\n",
              "      <td>2097.2700</td>\n",
              "    </tr>\n",
              "    <tr>\n",
              "      <th>3</th>\n",
              "      <td>FDX07</td>\n",
              "      <td>19.20</td>\n",
              "      <td>Regular</td>\n",
              "      <td>0.000000</td>\n",
              "      <td>Fruits and Vegetables</td>\n",
              "      <td>182.0950</td>\n",
              "      <td>OUT010</td>\n",
              "      <td>1998</td>\n",
              "      <td>NaN</td>\n",
              "      <td>Tier 3</td>\n",
              "      <td>Grocery Store</td>\n",
              "      <td>732.3800</td>\n",
              "    </tr>\n",
              "    <tr>\n",
              "      <th>4</th>\n",
              "      <td>NCD19</td>\n",
              "      <td>8.93</td>\n",
              "      <td>Low Fat</td>\n",
              "      <td>0.000000</td>\n",
              "      <td>Household</td>\n",
              "      <td>53.8614</td>\n",
              "      <td>OUT013</td>\n",
              "      <td>1987</td>\n",
              "      <td>High</td>\n",
              "      <td>Tier 3</td>\n",
              "      <td>Supermarket Type1</td>\n",
              "      <td>994.7052</td>\n",
              "    </tr>\n",
              "  </tbody>\n",
              "</table>\n",
              "</div>\n",
              "      <button class=\"colab-df-convert\" onclick=\"convertToInteractive('df-32eb4b01-2dd5-4aa3-b93c-7036ec7fbdc6')\"\n",
              "              title=\"Convert this dataframe to an interactive table.\"\n",
              "              style=\"display:none;\">\n",
              "        \n",
              "  <svg xmlns=\"http://www.w3.org/2000/svg\" height=\"24px\"viewBox=\"0 0 24 24\"\n",
              "       width=\"24px\">\n",
              "    <path d=\"M0 0h24v24H0V0z\" fill=\"none\"/>\n",
              "    <path d=\"M18.56 5.44l.94 2.06.94-2.06 2.06-.94-2.06-.94-.94-2.06-.94 2.06-2.06.94zm-11 1L8.5 8.5l.94-2.06 2.06-.94-2.06-.94L8.5 2.5l-.94 2.06-2.06.94zm10 10l.94 2.06.94-2.06 2.06-.94-2.06-.94-.94-2.06-.94 2.06-2.06.94z\"/><path d=\"M17.41 7.96l-1.37-1.37c-.4-.4-.92-.59-1.43-.59-.52 0-1.04.2-1.43.59L10.3 9.45l-7.72 7.72c-.78.78-.78 2.05 0 2.83L4 21.41c.39.39.9.59 1.41.59.51 0 1.02-.2 1.41-.59l7.78-7.78 2.81-2.81c.8-.78.8-2.07 0-2.86zM5.41 20L4 18.59l7.72-7.72 1.47 1.35L5.41 20z\"/>\n",
              "  </svg>\n",
              "      </button>\n",
              "      \n",
              "  <style>\n",
              "    .colab-df-container {\n",
              "      display:flex;\n",
              "      flex-wrap:wrap;\n",
              "      gap: 12px;\n",
              "    }\n",
              "\n",
              "    .colab-df-convert {\n",
              "      background-color: #E8F0FE;\n",
              "      border: none;\n",
              "      border-radius: 50%;\n",
              "      cursor: pointer;\n",
              "      display: none;\n",
              "      fill: #1967D2;\n",
              "      height: 32px;\n",
              "      padding: 0 0 0 0;\n",
              "      width: 32px;\n",
              "    }\n",
              "\n",
              "    .colab-df-convert:hover {\n",
              "      background-color: #E2EBFA;\n",
              "      box-shadow: 0px 1px 2px rgba(60, 64, 67, 0.3), 0px 1px 3px 1px rgba(60, 64, 67, 0.15);\n",
              "      fill: #174EA6;\n",
              "    }\n",
              "\n",
              "    [theme=dark] .colab-df-convert {\n",
              "      background-color: #3B4455;\n",
              "      fill: #D2E3FC;\n",
              "    }\n",
              "\n",
              "    [theme=dark] .colab-df-convert:hover {\n",
              "      background-color: #434B5C;\n",
              "      box-shadow: 0px 1px 3px 1px rgba(0, 0, 0, 0.15);\n",
              "      filter: drop-shadow(0px 1px 2px rgba(0, 0, 0, 0.3));\n",
              "      fill: #FFFFFF;\n",
              "    }\n",
              "  </style>\n",
              "\n",
              "      <script>\n",
              "        const buttonEl =\n",
              "          document.querySelector('#df-32eb4b01-2dd5-4aa3-b93c-7036ec7fbdc6 button.colab-df-convert');\n",
              "        buttonEl.style.display =\n",
              "          google.colab.kernel.accessAllowed ? 'block' : 'none';\n",
              "\n",
              "        async function convertToInteractive(key) {\n",
              "          const element = document.querySelector('#df-32eb4b01-2dd5-4aa3-b93c-7036ec7fbdc6');\n",
              "          const dataTable =\n",
              "            await google.colab.kernel.invokeFunction('convertToInteractive',\n",
              "                                                     [key], {});\n",
              "          if (!dataTable) return;\n",
              "\n",
              "          const docLinkHtml = 'Like what you see? Visit the ' +\n",
              "            '<a target=\"_blank\" href=https://colab.research.google.com/notebooks/data_table.ipynb>data table notebook</a>'\n",
              "            + ' to learn more about interactive tables.';\n",
              "          element.innerHTML = '';\n",
              "          dataTable['output_type'] = 'display_data';\n",
              "          await google.colab.output.renderOutput(dataTable, element);\n",
              "          const docLink = document.createElement('div');\n",
              "          docLink.innerHTML = docLinkHtml;\n",
              "          element.appendChild(docLink);\n",
              "        }\n",
              "      </script>\n",
              "    </div>\n",
              "  </div>\n",
              "  "
            ]
          },
          "metadata": {},
          "execution_count": 115
        }
      ]
    },
    {
      "cell_type": "code",
      "source": [
        "df2 = df.copy()"
      ],
      "metadata": {
        "id": "acD5t-6_GWtP"
      },
      "execution_count": 116,
      "outputs": []
    },
    {
      "cell_type": "code",
      "source": [
        "df2.duplicated().sum()"
      ],
      "metadata": {
        "colab": {
          "base_uri": "https://localhost:8080/"
        },
        "id": "rywCZW3WBhgM",
        "outputId": "189011fc-d086-40bb-e875-ce9286d4957d"
      },
      "execution_count": 117,
      "outputs": [
        {
          "output_type": "execute_result",
          "data": {
            "text/plain": [
              "0"
            ]
          },
          "metadata": {},
          "execution_count": 117
        }
      ]
    },
    {
      "cell_type": "code",
      "source": [
        "df2.value_counts()"
      ],
      "metadata": {
        "colab": {
          "base_uri": "https://localhost:8080/"
        },
        "id": "HExiZSMZBjhk",
        "outputId": "f0df2e9d-b3d1-4767-e531-6179839253d2"
      },
      "execution_count": 118,
      "outputs": [
        {
          "output_type": "execute_result",
          "data": {
            "text/plain": [
              "Item_Identifier  Item_Weight  Item_Fat_Content  Item_Visibility  Item_Type     Item_MRP  Outlet_Identifier  Outlet_Establishment_Year  Outlet_Size  Outlet_Location_Type  Outlet_Type        Item_Outlet_Sales\n",
              "DRA12            11.600       LF                0.000000         Soft Drinks   141.9154  OUT035             2004                       Small        Tier 2                Supermarket Type1  992.7078             1\n",
              "FDV35            19.500       Low Fat           0.128182         Breads        156.1314  OUT035             2004                       Small        Tier 2                Supermarket Type1  2792.3652            1\n",
              "FDV25            5.905        low fat           0.045614         Canned        221.5456  OUT013             1987                       High         Tier 3                Supermarket Type1  6852.4136            1\n",
              "                              Low Fat           0.045838         Canned        222.5456  OUT018             2009                       Medium       Tier 3                Supermarket Type2  3315.6840            1\n",
              "                                                0.045723         Canned        222.1456  OUT049             1999                       Medium       Tier 1                Supermarket Type1  5747.1856            1\n",
              "                                                                                                                                                                                                                 ..\n",
              "FDJ16            9.195        Low Fat           0.115064         Frozen Foods  58.6246   OUT049             1999                       Medium       Tier 1                Supermarket Type1  868.8690             1\n",
              "                                                0.114886         Frozen Foods  59.6246   OUT046             1997                       Small        Tier 1                Supermarket Type1  1100.5674            1\n",
              "                              LF                0.114864         Frozen Foods  59.0246   OUT035             2004                       Small        Tier 2                Supermarket Type1  1853.5872            1\n",
              "FDJ15            11.350       Regular           0.023359         Dairy         184.4608  OUT049             1999                       Medium       Tier 1                Supermarket Type1  4042.7376            1\n",
              "NCZ54            14.650       Low Fat           0.083699         Household     163.4552  OUT018             2009                       Medium       Tier 3                Supermarket Type2  2599.2832            1\n",
              "Length: 4650, dtype: int64"
            ]
          },
          "metadata": {},
          "execution_count": 118
        }
      ]
    },
    {
      "cell_type": "code",
      "source": [
        "df2.value_counts('Item_Fat_Content')"
      ],
      "metadata": {
        "colab": {
          "base_uri": "https://localhost:8080/"
        },
        "id": "E6u6Pe5YBjet",
        "outputId": "f4a7f544-a05a-4324-aa85-237f44403e89"
      },
      "execution_count": 119,
      "outputs": [
        {
          "output_type": "execute_result",
          "data": {
            "text/plain": [
              "Item_Fat_Content\n",
              "Low Fat    5089\n",
              "Regular    2889\n",
              "LF          316\n",
              "reg         117\n",
              "low fat     112\n",
              "dtype: int64"
            ]
          },
          "metadata": {},
          "execution_count": 119
        }
      ]
    },
    {
      "cell_type": "code",
      "source": [
        "df2['Item_Fat_Content'] = df2['Item_Fat_Content'].replace('LF', 'Low Fat')\n",
        "df2['Item_Fat_Content'] = df2['Item_Fat_Content'].replace('low fat', 'Low Fat')\n",
        "df2['Item_Fat_Content'] = df2['Item_Fat_Content'].replace('reg', 'Regular')\n",
        "\n",
        "df.value_counts('Item_Fat_Content')"
      ],
      "metadata": {
        "colab": {
          "base_uri": "https://localhost:8080/"
        },
        "id": "eIwdDcaiBjai",
        "outputId": "bdb5fb94-e0bf-47ab-9315-d18fefcc4260"
      },
      "execution_count": 120,
      "outputs": [
        {
          "output_type": "execute_result",
          "data": {
            "text/plain": [
              "Item_Fat_Content\n",
              "Low Fat    5089\n",
              "Regular    2889\n",
              "LF          316\n",
              "reg         117\n",
              "low fat     112\n",
              "dtype: int64"
            ]
          },
          "metadata": {},
          "execution_count": 120
        }
      ]
    },
    {
      "cell_type": "code",
      "source": [
        "df2.isna().sum()"
      ],
      "metadata": {
        "colab": {
          "base_uri": "https://localhost:8080/"
        },
        "id": "_o_Z8g8ABjSi",
        "outputId": "b7965720-4810-4074-f256-b592f0a162f6"
      },
      "execution_count": 121,
      "outputs": [
        {
          "output_type": "execute_result",
          "data": {
            "text/plain": [
              "Item_Identifier                 0\n",
              "Item_Weight                  1463\n",
              "Item_Fat_Content                0\n",
              "Item_Visibility                 0\n",
              "Item_Type                       0\n",
              "Item_MRP                        0\n",
              "Outlet_Identifier               0\n",
              "Outlet_Establishment_Year       0\n",
              "Outlet_Size                  2410\n",
              "Outlet_Location_Type            0\n",
              "Outlet_Type                     0\n",
              "Item_Outlet_Sales               0\n",
              "dtype: int64"
            ]
          },
          "metadata": {},
          "execution_count": 121
        }
      ]
    },
    {
      "cell_type": "code",
      "source": [
        "df2.nunique()"
      ],
      "metadata": {
        "colab": {
          "base_uri": "https://localhost:8080/"
        },
        "id": "tppJ1iG6BjJK",
        "outputId": "39f6d3e7-18fe-4021-8c7b-92d590f49239"
      },
      "execution_count": 122,
      "outputs": [
        {
          "output_type": "execute_result",
          "data": {
            "text/plain": [
              "Item_Identifier              1559\n",
              "Item_Weight                   415\n",
              "Item_Fat_Content                2\n",
              "Item_Visibility              7880\n",
              "Item_Type                      16\n",
              "Item_MRP                     5938\n",
              "Outlet_Identifier              10\n",
              "Outlet_Establishment_Year       9\n",
              "Outlet_Size                     3\n",
              "Outlet_Location_Type            3\n",
              "Outlet_Type                     4\n",
              "Item_Outlet_Sales            3493\n",
              "dtype: int64"
            ]
          },
          "metadata": {},
          "execution_count": 122
        }
      ]
    },
    {
      "cell_type": "code",
      "source": [
        "df2.value_counts('Outlet_Establishment_Year')"
      ],
      "metadata": {
        "colab": {
          "base_uri": "https://localhost:8080/"
        },
        "id": "fXl6LEwjMZHu",
        "outputId": "5daca438-8c45-4f3d-bb98-9a675c35e313"
      },
      "execution_count": 123,
      "outputs": [
        {
          "output_type": "execute_result",
          "data": {
            "text/plain": [
              "Outlet_Establishment_Year\n",
              "1985    1463\n",
              "1987     932\n",
              "1997     930\n",
              "1999     930\n",
              "2004     930\n",
              "2002     929\n",
              "2009     928\n",
              "2007     926\n",
              "1998     555\n",
              "dtype: int64"
            ]
          },
          "metadata": {},
          "execution_count": 123
        }
      ]
    },
    {
      "cell_type": "code",
      "source": [
        "df2.describe()"
      ],
      "metadata": {
        "colab": {
          "base_uri": "https://localhost:8080/",
          "height": 300
        },
        "id": "tH18b85dBi6q",
        "outputId": "5b83cb6c-ee08-40a0-8d36-ee02db32ed94"
      },
      "execution_count": 124,
      "outputs": [
        {
          "output_type": "execute_result",
          "data": {
            "text/plain": [
              "       Item_Weight  Item_Visibility     Item_MRP  Outlet_Establishment_Year  \\\n",
              "count  7060.000000      8523.000000  8523.000000                8523.000000   \n",
              "mean     12.857645         0.066132   140.992782                1997.831867   \n",
              "std       4.643456         0.051598    62.275067                   8.371760   \n",
              "min       4.555000         0.000000    31.290000                1985.000000   \n",
              "25%       8.773750         0.026989    93.826500                1987.000000   \n",
              "50%      12.600000         0.053931   143.012800                1999.000000   \n",
              "75%      16.850000         0.094585   185.643700                2004.000000   \n",
              "max      21.350000         0.328391   266.888400                2009.000000   \n",
              "\n",
              "       Item_Outlet_Sales  \n",
              "count        8523.000000  \n",
              "mean         2181.288914  \n",
              "std          1706.499616  \n",
              "min            33.290000  \n",
              "25%           834.247400  \n",
              "50%          1794.331000  \n",
              "75%          3101.296400  \n",
              "max         13086.964800  "
            ],
            "text/html": [
              "\n",
              "  <div id=\"df-30175a7e-e08a-41d0-92c7-86ea7273eec4\">\n",
              "    <div class=\"colab-df-container\">\n",
              "      <div>\n",
              "<style scoped>\n",
              "    .dataframe tbody tr th:only-of-type {\n",
              "        vertical-align: middle;\n",
              "    }\n",
              "\n",
              "    .dataframe tbody tr th {\n",
              "        vertical-align: top;\n",
              "    }\n",
              "\n",
              "    .dataframe thead th {\n",
              "        text-align: right;\n",
              "    }\n",
              "</style>\n",
              "<table border=\"1\" class=\"dataframe\">\n",
              "  <thead>\n",
              "    <tr style=\"text-align: right;\">\n",
              "      <th></th>\n",
              "      <th>Item_Weight</th>\n",
              "      <th>Item_Visibility</th>\n",
              "      <th>Item_MRP</th>\n",
              "      <th>Outlet_Establishment_Year</th>\n",
              "      <th>Item_Outlet_Sales</th>\n",
              "    </tr>\n",
              "  </thead>\n",
              "  <tbody>\n",
              "    <tr>\n",
              "      <th>count</th>\n",
              "      <td>7060.000000</td>\n",
              "      <td>8523.000000</td>\n",
              "      <td>8523.000000</td>\n",
              "      <td>8523.000000</td>\n",
              "      <td>8523.000000</td>\n",
              "    </tr>\n",
              "    <tr>\n",
              "      <th>mean</th>\n",
              "      <td>12.857645</td>\n",
              "      <td>0.066132</td>\n",
              "      <td>140.992782</td>\n",
              "      <td>1997.831867</td>\n",
              "      <td>2181.288914</td>\n",
              "    </tr>\n",
              "    <tr>\n",
              "      <th>std</th>\n",
              "      <td>4.643456</td>\n",
              "      <td>0.051598</td>\n",
              "      <td>62.275067</td>\n",
              "      <td>8.371760</td>\n",
              "      <td>1706.499616</td>\n",
              "    </tr>\n",
              "    <tr>\n",
              "      <th>min</th>\n",
              "      <td>4.555000</td>\n",
              "      <td>0.000000</td>\n",
              "      <td>31.290000</td>\n",
              "      <td>1985.000000</td>\n",
              "      <td>33.290000</td>\n",
              "    </tr>\n",
              "    <tr>\n",
              "      <th>25%</th>\n",
              "      <td>8.773750</td>\n",
              "      <td>0.026989</td>\n",
              "      <td>93.826500</td>\n",
              "      <td>1987.000000</td>\n",
              "      <td>834.247400</td>\n",
              "    </tr>\n",
              "    <tr>\n",
              "      <th>50%</th>\n",
              "      <td>12.600000</td>\n",
              "      <td>0.053931</td>\n",
              "      <td>143.012800</td>\n",
              "      <td>1999.000000</td>\n",
              "      <td>1794.331000</td>\n",
              "    </tr>\n",
              "    <tr>\n",
              "      <th>75%</th>\n",
              "      <td>16.850000</td>\n",
              "      <td>0.094585</td>\n",
              "      <td>185.643700</td>\n",
              "      <td>2004.000000</td>\n",
              "      <td>3101.296400</td>\n",
              "    </tr>\n",
              "    <tr>\n",
              "      <th>max</th>\n",
              "      <td>21.350000</td>\n",
              "      <td>0.328391</td>\n",
              "      <td>266.888400</td>\n",
              "      <td>2009.000000</td>\n",
              "      <td>13086.964800</td>\n",
              "    </tr>\n",
              "  </tbody>\n",
              "</table>\n",
              "</div>\n",
              "      <button class=\"colab-df-convert\" onclick=\"convertToInteractive('df-30175a7e-e08a-41d0-92c7-86ea7273eec4')\"\n",
              "              title=\"Convert this dataframe to an interactive table.\"\n",
              "              style=\"display:none;\">\n",
              "        \n",
              "  <svg xmlns=\"http://www.w3.org/2000/svg\" height=\"24px\"viewBox=\"0 0 24 24\"\n",
              "       width=\"24px\">\n",
              "    <path d=\"M0 0h24v24H0V0z\" fill=\"none\"/>\n",
              "    <path d=\"M18.56 5.44l.94 2.06.94-2.06 2.06-.94-2.06-.94-.94-2.06-.94 2.06-2.06.94zm-11 1L8.5 8.5l.94-2.06 2.06-.94-2.06-.94L8.5 2.5l-.94 2.06-2.06.94zm10 10l.94 2.06.94-2.06 2.06-.94-2.06-.94-.94-2.06-.94 2.06-2.06.94z\"/><path d=\"M17.41 7.96l-1.37-1.37c-.4-.4-.92-.59-1.43-.59-.52 0-1.04.2-1.43.59L10.3 9.45l-7.72 7.72c-.78.78-.78 2.05 0 2.83L4 21.41c.39.39.9.59 1.41.59.51 0 1.02-.2 1.41-.59l7.78-7.78 2.81-2.81c.8-.78.8-2.07 0-2.86zM5.41 20L4 18.59l7.72-7.72 1.47 1.35L5.41 20z\"/>\n",
              "  </svg>\n",
              "      </button>\n",
              "      \n",
              "  <style>\n",
              "    .colab-df-container {\n",
              "      display:flex;\n",
              "      flex-wrap:wrap;\n",
              "      gap: 12px;\n",
              "    }\n",
              "\n",
              "    .colab-df-convert {\n",
              "      background-color: #E8F0FE;\n",
              "      border: none;\n",
              "      border-radius: 50%;\n",
              "      cursor: pointer;\n",
              "      display: none;\n",
              "      fill: #1967D2;\n",
              "      height: 32px;\n",
              "      padding: 0 0 0 0;\n",
              "      width: 32px;\n",
              "    }\n",
              "\n",
              "    .colab-df-convert:hover {\n",
              "      background-color: #E2EBFA;\n",
              "      box-shadow: 0px 1px 2px rgba(60, 64, 67, 0.3), 0px 1px 3px 1px rgba(60, 64, 67, 0.15);\n",
              "      fill: #174EA6;\n",
              "    }\n",
              "\n",
              "    [theme=dark] .colab-df-convert {\n",
              "      background-color: #3B4455;\n",
              "      fill: #D2E3FC;\n",
              "    }\n",
              "\n",
              "    [theme=dark] .colab-df-convert:hover {\n",
              "      background-color: #434B5C;\n",
              "      box-shadow: 0px 1px 3px 1px rgba(0, 0, 0, 0.15);\n",
              "      filter: drop-shadow(0px 1px 2px rgba(0, 0, 0, 0.3));\n",
              "      fill: #FFFFFF;\n",
              "    }\n",
              "  </style>\n",
              "\n",
              "      <script>\n",
              "        const buttonEl =\n",
              "          document.querySelector('#df-30175a7e-e08a-41d0-92c7-86ea7273eec4 button.colab-df-convert');\n",
              "        buttonEl.style.display =\n",
              "          google.colab.kernel.accessAllowed ? 'block' : 'none';\n",
              "\n",
              "        async function convertToInteractive(key) {\n",
              "          const element = document.querySelector('#df-30175a7e-e08a-41d0-92c7-86ea7273eec4');\n",
              "          const dataTable =\n",
              "            await google.colab.kernel.invokeFunction('convertToInteractive',\n",
              "                                                     [key], {});\n",
              "          if (!dataTable) return;\n",
              "\n",
              "          const docLinkHtml = 'Like what you see? Visit the ' +\n",
              "            '<a target=\"_blank\" href=https://colab.research.google.com/notebooks/data_table.ipynb>data table notebook</a>'\n",
              "            + ' to learn more about interactive tables.';\n",
              "          element.innerHTML = '';\n",
              "          dataTable['output_type'] = 'display_data';\n",
              "          await google.colab.output.renderOutput(dataTable, element);\n",
              "          const docLink = document.createElement('div');\n",
              "          docLink.innerHTML = docLinkHtml;\n",
              "          element.appendChild(docLink);\n",
              "        }\n",
              "      </script>\n",
              "    </div>\n",
              "  </div>\n",
              "  "
            ]
          },
          "metadata": {},
          "execution_count": 124
        }
      ]
    },
    {
      "cell_type": "markdown",
      "source": [
        "### Ordinal Encoding for 'Outlet_Size'"
      ],
      "metadata": {
        "id": "1BoUynMmQzMR"
      }
    },
    {
      "cell_type": "code",
      "source": [
        "df2.value_counts('Outlet_Size')"
      ],
      "metadata": {
        "colab": {
          "base_uri": "https://localhost:8080/"
        },
        "id": "lzODQD2OQ_CU",
        "outputId": "350c3f6a-11dd-46f9-d084-f8cf7e944cfc"
      },
      "execution_count": 125,
      "outputs": [
        {
          "output_type": "execute_result",
          "data": {
            "text/plain": [
              "Outlet_Size\n",
              "Medium    2793\n",
              "Small     2388\n",
              "High       932\n",
              "dtype: int64"
            ]
          },
          "metadata": {},
          "execution_count": 125
        }
      ]
    },
    {
      "cell_type": "code",
      "source": [
        "outletsize_dictionary = {'High':2, 'Medium':1, 'Small':0}\n",
        "df2['Outlet_Size'].replace(outletsize_dictionary, inplace=True)\n",
        "df2['Outlet_Size']"
      ],
      "metadata": {
        "colab": {
          "base_uri": "https://localhost:8080/"
        },
        "id": "lR57LHFARIHo",
        "outputId": "9db49cdf-addb-4ca4-83af-41929350b0eb"
      },
      "execution_count": 126,
      "outputs": [
        {
          "output_type": "execute_result",
          "data": {
            "text/plain": [
              "0       1.0\n",
              "1       1.0\n",
              "2       1.0\n",
              "3       NaN\n",
              "4       2.0\n",
              "       ... \n",
              "8518    2.0\n",
              "8519    NaN\n",
              "8520    0.0\n",
              "8521    1.0\n",
              "8522    0.0\n",
              "Name: Outlet_Size, Length: 8523, dtype: float64"
            ]
          },
          "metadata": {},
          "execution_count": 126
        }
      ]
    },
    {
      "cell_type": "markdown",
      "source": [
        "## Setting the Features (X) & Target (y)"
      ],
      "metadata": {
        "id": "xqHIavWcIYM0"
      }
    },
    {
      "cell_type": "code",
      "source": [
        "y = df2['Item_Outlet_Sales'].copy()\n",
        "X = df2.drop(columns = ['Item_Outlet_Sales', 'Item_Identifier', 'Outlet_Establishment_Year']).copy()\n",
        "\n",
        "## dropped 'Item_Identifier' because it is a unique product ID and 'Outlet_Establishment_Year'."
      ],
      "metadata": {
        "id": "ODUwZ9HGIuGI"
      },
      "execution_count": 127,
      "outputs": []
    },
    {
      "cell_type": "code",
      "source": [
        "type(y)"
      ],
      "metadata": {
        "colab": {
          "base_uri": "https://localhost:8080/"
        },
        "id": "iYwQiwvwLsQ9",
        "outputId": "a0d1450f-968e-4ff0-d60c-3dd39d7ea9b7"
      },
      "execution_count": 128,
      "outputs": [
        {
          "output_type": "execute_result",
          "data": {
            "text/plain": [
              "pandas.core.series.Series"
            ]
          },
          "metadata": {},
          "execution_count": 128
        }
      ]
    },
    {
      "cell_type": "code",
      "source": [
        "y[0:5]"
      ],
      "metadata": {
        "colab": {
          "base_uri": "https://localhost:8080/"
        },
        "id": "QkT2rhHJLsOG",
        "outputId": "3785c8c1-d3bf-4d75-fa34-7ce22bc7ffe3"
      },
      "execution_count": 129,
      "outputs": [
        {
          "output_type": "execute_result",
          "data": {
            "text/plain": [
              "0    3735.1380\n",
              "1     443.4228\n",
              "2    2097.2700\n",
              "3     732.3800\n",
              "4     994.7052\n",
              "Name: Item_Outlet_Sales, dtype: float64"
            ]
          },
          "metadata": {},
          "execution_count": 129
        }
      ]
    },
    {
      "cell_type": "code",
      "source": [
        "type(X)"
      ],
      "metadata": {
        "colab": {
          "base_uri": "https://localhost:8080/"
        },
        "id": "KhveLdJvLsJ2",
        "outputId": "dccf49e2-29cf-44c3-8c19-8993ddb0750f"
      },
      "execution_count": 130,
      "outputs": [
        {
          "output_type": "execute_result",
          "data": {
            "text/plain": [
              "pandas.core.frame.DataFrame"
            ]
          },
          "metadata": {},
          "execution_count": 130
        }
      ]
    },
    {
      "cell_type": "code",
      "source": [
        "X.head()"
      ],
      "metadata": {
        "colab": {
          "base_uri": "https://localhost:8080/",
          "height": 206
        },
        "id": "RuNMtpgWLsHE",
        "outputId": "379d5a10-4f3e-4f14-c060-dc14a21d1563"
      },
      "execution_count": 131,
      "outputs": [
        {
          "output_type": "execute_result",
          "data": {
            "text/plain": [
              "   Item_Weight Item_Fat_Content  Item_Visibility              Item_Type  \\\n",
              "0         9.30          Low Fat         0.016047                  Dairy   \n",
              "1         5.92          Regular         0.019278            Soft Drinks   \n",
              "2        17.50          Low Fat         0.016760                   Meat   \n",
              "3        19.20          Regular         0.000000  Fruits and Vegetables   \n",
              "4         8.93          Low Fat         0.000000              Household   \n",
              "\n",
              "   Item_MRP Outlet_Identifier  Outlet_Size Outlet_Location_Type  \\\n",
              "0  249.8092            OUT049          1.0               Tier 1   \n",
              "1   48.2692            OUT018          1.0               Tier 3   \n",
              "2  141.6180            OUT049          1.0               Tier 1   \n",
              "3  182.0950            OUT010          NaN               Tier 3   \n",
              "4   53.8614            OUT013          2.0               Tier 3   \n",
              "\n",
              "         Outlet_Type  \n",
              "0  Supermarket Type1  \n",
              "1  Supermarket Type2  \n",
              "2  Supermarket Type1  \n",
              "3      Grocery Store  \n",
              "4  Supermarket Type1  "
            ],
            "text/html": [
              "\n",
              "  <div id=\"df-88518b7f-d29e-4237-ab5c-a7f0f7b86165\">\n",
              "    <div class=\"colab-df-container\">\n",
              "      <div>\n",
              "<style scoped>\n",
              "    .dataframe tbody tr th:only-of-type {\n",
              "        vertical-align: middle;\n",
              "    }\n",
              "\n",
              "    .dataframe tbody tr th {\n",
              "        vertical-align: top;\n",
              "    }\n",
              "\n",
              "    .dataframe thead th {\n",
              "        text-align: right;\n",
              "    }\n",
              "</style>\n",
              "<table border=\"1\" class=\"dataframe\">\n",
              "  <thead>\n",
              "    <tr style=\"text-align: right;\">\n",
              "      <th></th>\n",
              "      <th>Item_Weight</th>\n",
              "      <th>Item_Fat_Content</th>\n",
              "      <th>Item_Visibility</th>\n",
              "      <th>Item_Type</th>\n",
              "      <th>Item_MRP</th>\n",
              "      <th>Outlet_Identifier</th>\n",
              "      <th>Outlet_Size</th>\n",
              "      <th>Outlet_Location_Type</th>\n",
              "      <th>Outlet_Type</th>\n",
              "    </tr>\n",
              "  </thead>\n",
              "  <tbody>\n",
              "    <tr>\n",
              "      <th>0</th>\n",
              "      <td>9.30</td>\n",
              "      <td>Low Fat</td>\n",
              "      <td>0.016047</td>\n",
              "      <td>Dairy</td>\n",
              "      <td>249.8092</td>\n",
              "      <td>OUT049</td>\n",
              "      <td>1.0</td>\n",
              "      <td>Tier 1</td>\n",
              "      <td>Supermarket Type1</td>\n",
              "    </tr>\n",
              "    <tr>\n",
              "      <th>1</th>\n",
              "      <td>5.92</td>\n",
              "      <td>Regular</td>\n",
              "      <td>0.019278</td>\n",
              "      <td>Soft Drinks</td>\n",
              "      <td>48.2692</td>\n",
              "      <td>OUT018</td>\n",
              "      <td>1.0</td>\n",
              "      <td>Tier 3</td>\n",
              "      <td>Supermarket Type2</td>\n",
              "    </tr>\n",
              "    <tr>\n",
              "      <th>2</th>\n",
              "      <td>17.50</td>\n",
              "      <td>Low Fat</td>\n",
              "      <td>0.016760</td>\n",
              "      <td>Meat</td>\n",
              "      <td>141.6180</td>\n",
              "      <td>OUT049</td>\n",
              "      <td>1.0</td>\n",
              "      <td>Tier 1</td>\n",
              "      <td>Supermarket Type1</td>\n",
              "    </tr>\n",
              "    <tr>\n",
              "      <th>3</th>\n",
              "      <td>19.20</td>\n",
              "      <td>Regular</td>\n",
              "      <td>0.000000</td>\n",
              "      <td>Fruits and Vegetables</td>\n",
              "      <td>182.0950</td>\n",
              "      <td>OUT010</td>\n",
              "      <td>NaN</td>\n",
              "      <td>Tier 3</td>\n",
              "      <td>Grocery Store</td>\n",
              "    </tr>\n",
              "    <tr>\n",
              "      <th>4</th>\n",
              "      <td>8.93</td>\n",
              "      <td>Low Fat</td>\n",
              "      <td>0.000000</td>\n",
              "      <td>Household</td>\n",
              "      <td>53.8614</td>\n",
              "      <td>OUT013</td>\n",
              "      <td>2.0</td>\n",
              "      <td>Tier 3</td>\n",
              "      <td>Supermarket Type1</td>\n",
              "    </tr>\n",
              "  </tbody>\n",
              "</table>\n",
              "</div>\n",
              "      <button class=\"colab-df-convert\" onclick=\"convertToInteractive('df-88518b7f-d29e-4237-ab5c-a7f0f7b86165')\"\n",
              "              title=\"Convert this dataframe to an interactive table.\"\n",
              "              style=\"display:none;\">\n",
              "        \n",
              "  <svg xmlns=\"http://www.w3.org/2000/svg\" height=\"24px\"viewBox=\"0 0 24 24\"\n",
              "       width=\"24px\">\n",
              "    <path d=\"M0 0h24v24H0V0z\" fill=\"none\"/>\n",
              "    <path d=\"M18.56 5.44l.94 2.06.94-2.06 2.06-.94-2.06-.94-.94-2.06-.94 2.06-2.06.94zm-11 1L8.5 8.5l.94-2.06 2.06-.94-2.06-.94L8.5 2.5l-.94 2.06-2.06.94zm10 10l.94 2.06.94-2.06 2.06-.94-2.06-.94-.94-2.06-.94 2.06-2.06.94z\"/><path d=\"M17.41 7.96l-1.37-1.37c-.4-.4-.92-.59-1.43-.59-.52 0-1.04.2-1.43.59L10.3 9.45l-7.72 7.72c-.78.78-.78 2.05 0 2.83L4 21.41c.39.39.9.59 1.41.59.51 0 1.02-.2 1.41-.59l7.78-7.78 2.81-2.81c.8-.78.8-2.07 0-2.86zM5.41 20L4 18.59l7.72-7.72 1.47 1.35L5.41 20z\"/>\n",
              "  </svg>\n",
              "      </button>\n",
              "      \n",
              "  <style>\n",
              "    .colab-df-container {\n",
              "      display:flex;\n",
              "      flex-wrap:wrap;\n",
              "      gap: 12px;\n",
              "    }\n",
              "\n",
              "    .colab-df-convert {\n",
              "      background-color: #E8F0FE;\n",
              "      border: none;\n",
              "      border-radius: 50%;\n",
              "      cursor: pointer;\n",
              "      display: none;\n",
              "      fill: #1967D2;\n",
              "      height: 32px;\n",
              "      padding: 0 0 0 0;\n",
              "      width: 32px;\n",
              "    }\n",
              "\n",
              "    .colab-df-convert:hover {\n",
              "      background-color: #E2EBFA;\n",
              "      box-shadow: 0px 1px 2px rgba(60, 64, 67, 0.3), 0px 1px 3px 1px rgba(60, 64, 67, 0.15);\n",
              "      fill: #174EA6;\n",
              "    }\n",
              "\n",
              "    [theme=dark] .colab-df-convert {\n",
              "      background-color: #3B4455;\n",
              "      fill: #D2E3FC;\n",
              "    }\n",
              "\n",
              "    [theme=dark] .colab-df-convert:hover {\n",
              "      background-color: #434B5C;\n",
              "      box-shadow: 0px 1px 3px 1px rgba(0, 0, 0, 0.15);\n",
              "      filter: drop-shadow(0px 1px 2px rgba(0, 0, 0, 0.3));\n",
              "      fill: #FFFFFF;\n",
              "    }\n",
              "  </style>\n",
              "\n",
              "      <script>\n",
              "        const buttonEl =\n",
              "          document.querySelector('#df-88518b7f-d29e-4237-ab5c-a7f0f7b86165 button.colab-df-convert');\n",
              "        buttonEl.style.display =\n",
              "          google.colab.kernel.accessAllowed ? 'block' : 'none';\n",
              "\n",
              "        async function convertToInteractive(key) {\n",
              "          const element = document.querySelector('#df-88518b7f-d29e-4237-ab5c-a7f0f7b86165');\n",
              "          const dataTable =\n",
              "            await google.colab.kernel.invokeFunction('convertToInteractive',\n",
              "                                                     [key], {});\n",
              "          if (!dataTable) return;\n",
              "\n",
              "          const docLinkHtml = 'Like what you see? Visit the ' +\n",
              "            '<a target=\"_blank\" href=https://colab.research.google.com/notebooks/data_table.ipynb>data table notebook</a>'\n",
              "            + ' to learn more about interactive tables.';\n",
              "          element.innerHTML = '';\n",
              "          dataTable['output_type'] = 'display_data';\n",
              "          await google.colab.output.renderOutput(dataTable, element);\n",
              "          const docLink = document.createElement('div');\n",
              "          docLink.innerHTML = docLinkHtml;\n",
              "          element.appendChild(docLink);\n",
              "        }\n",
              "      </script>\n",
              "    </div>\n",
              "  </div>\n",
              "  "
            ]
          },
          "metadata": {},
          "execution_count": 131
        }
      ]
    },
    {
      "cell_type": "markdown",
      "source": [
        "## Validation Split"
      ],
      "metadata": {
        "id": "AFr0OUMYS3tk"
      }
    },
    {
      "cell_type": "code",
      "source": [
        "X_train, X_test, y_train, y_test = train_test_split(X, y, random_state=42)"
      ],
      "metadata": {
        "id": "nmC_lT8YLr58"
      },
      "execution_count": 132,
      "outputs": []
    },
    {
      "cell_type": "markdown",
      "source": [
        "###Pipelines and ColumnTransformers"
      ],
      "metadata": {
        "id": "ER0crEdjWB4k"
      }
    },
    {
      "cell_type": "code",
      "source": [
        "#Selectors\n",
        "cat_selector = make_column_selector(dtype_include='object')\n",
        "num_selector = make_column_selector(dtype_include='number')\n",
        "\n",
        "# Imputers\n",
        "freq_imputer = SimpleImputer(strategy='most_frequent')\n",
        "mean_imputer = SimpleImputer(strategy='mean')\n",
        "# Scaler\n",
        "scaler = StandardScaler()\n",
        "# One-hot encoder\n",
        "ohe = OneHotEncoder(handle_unknown='ignore', sparse=False)"
      ],
      "metadata": {
        "id": "yP2QzqsfVXgj"
      },
      "execution_count": 133,
      "outputs": []
    },
    {
      "cell_type": "code",
      "source": [
        "numeric_pipe = make_pipeline(mean_imputer, scaler)\n",
        "\n",
        "categorical_pipe = make_pipeline(freq_imputer, ohe)"
      ],
      "metadata": {
        "id": "9x0xnchAVXde"
      },
      "execution_count": 134,
      "outputs": []
    },
    {
      "cell_type": "code",
      "source": [
        "numeric_tuple = (numeric_pipe, num_selector)\n",
        "category_tuple = (categorical_pipe, cat_selector)\n",
        "preprocessor = make_column_transformer(numeric_tuple, category_tuple, remainder='drop')\n",
        "preprocessor\n"
      ],
      "metadata": {
        "colab": {
          "base_uri": "https://localhost:8080/",
          "height": 152
        },
        "id": "1kgsjI42VXZ2",
        "outputId": "278e01b8-216c-41f8-ec45-fcdc514fbfcb"
      },
      "execution_count": 135,
      "outputs": [
        {
          "output_type": "execute_result",
          "data": {
            "text/plain": [
              "ColumnTransformer(transformers=[('pipeline-1',\n",
              "                                 Pipeline(steps=[('simpleimputer',\n",
              "                                                  SimpleImputer()),\n",
              "                                                 ('standardscaler',\n",
              "                                                  StandardScaler())]),\n",
              "                                 <sklearn.compose._column_transformer.make_column_selector object at 0x7fd09d8c54c0>),\n",
              "                                ('pipeline-2',\n",
              "                                 Pipeline(steps=[('simpleimputer',\n",
              "                                                  SimpleImputer(strategy='most_frequent')),\n",
              "                                                 ('onehotencoder',\n",
              "                                                  OneHotEncoder(handle_unknown='ignore',\n",
              "                                                                sparse=False))]),\n",
              "                                 <sklearn.compose._column_transformer.make_column_selector object at 0x7fd09d8c5d00>)])"
            ],
            "text/html": [
              "<style>#sk-191db4c4-75f3-4479-9750-e6e90d0862b6 {color: black;background-color: white;}#sk-191db4c4-75f3-4479-9750-e6e90d0862b6 pre{padding: 0;}#sk-191db4c4-75f3-4479-9750-e6e90d0862b6 div.sk-toggleable {background-color: white;}#sk-191db4c4-75f3-4479-9750-e6e90d0862b6 label.sk-toggleable__label {cursor: pointer;display: block;width: 100%;margin-bottom: 0;padding: 0.3em;box-sizing: border-box;text-align: center;}#sk-191db4c4-75f3-4479-9750-e6e90d0862b6 label.sk-toggleable__label-arrow:before {content: \"▸\";float: left;margin-right: 0.25em;color: #696969;}#sk-191db4c4-75f3-4479-9750-e6e90d0862b6 label.sk-toggleable__label-arrow:hover:before {color: black;}#sk-191db4c4-75f3-4479-9750-e6e90d0862b6 div.sk-estimator:hover label.sk-toggleable__label-arrow:before {color: black;}#sk-191db4c4-75f3-4479-9750-e6e90d0862b6 div.sk-toggleable__content {max-height: 0;max-width: 0;overflow: hidden;text-align: left;background-color: #f0f8ff;}#sk-191db4c4-75f3-4479-9750-e6e90d0862b6 div.sk-toggleable__content pre {margin: 0.2em;color: black;border-radius: 0.25em;background-color: #f0f8ff;}#sk-191db4c4-75f3-4479-9750-e6e90d0862b6 input.sk-toggleable__control:checked~div.sk-toggleable__content {max-height: 200px;max-width: 100%;overflow: auto;}#sk-191db4c4-75f3-4479-9750-e6e90d0862b6 input.sk-toggleable__control:checked~label.sk-toggleable__label-arrow:before {content: \"▾\";}#sk-191db4c4-75f3-4479-9750-e6e90d0862b6 div.sk-estimator input.sk-toggleable__control:checked~label.sk-toggleable__label {background-color: #d4ebff;}#sk-191db4c4-75f3-4479-9750-e6e90d0862b6 div.sk-label input.sk-toggleable__control:checked~label.sk-toggleable__label {background-color: #d4ebff;}#sk-191db4c4-75f3-4479-9750-e6e90d0862b6 input.sk-hidden--visually {border: 0;clip: rect(1px 1px 1px 1px);clip: rect(1px, 1px, 1px, 1px);height: 1px;margin: -1px;overflow: hidden;padding: 0;position: absolute;width: 1px;}#sk-191db4c4-75f3-4479-9750-e6e90d0862b6 div.sk-estimator {font-family: monospace;background-color: #f0f8ff;border: 1px dotted black;border-radius: 0.25em;box-sizing: border-box;margin-bottom: 0.5em;}#sk-191db4c4-75f3-4479-9750-e6e90d0862b6 div.sk-estimator:hover {background-color: #d4ebff;}#sk-191db4c4-75f3-4479-9750-e6e90d0862b6 div.sk-parallel-item::after {content: \"\";width: 100%;border-bottom: 1px solid gray;flex-grow: 1;}#sk-191db4c4-75f3-4479-9750-e6e90d0862b6 div.sk-label:hover label.sk-toggleable__label {background-color: #d4ebff;}#sk-191db4c4-75f3-4479-9750-e6e90d0862b6 div.sk-serial::before {content: \"\";position: absolute;border-left: 1px solid gray;box-sizing: border-box;top: 2em;bottom: 0;left: 50%;}#sk-191db4c4-75f3-4479-9750-e6e90d0862b6 div.sk-serial {display: flex;flex-direction: column;align-items: center;background-color: white;padding-right: 0.2em;padding-left: 0.2em;}#sk-191db4c4-75f3-4479-9750-e6e90d0862b6 div.sk-item {z-index: 1;}#sk-191db4c4-75f3-4479-9750-e6e90d0862b6 div.sk-parallel {display: flex;align-items: stretch;justify-content: center;background-color: white;}#sk-191db4c4-75f3-4479-9750-e6e90d0862b6 div.sk-parallel::before {content: \"\";position: absolute;border-left: 1px solid gray;box-sizing: border-box;top: 2em;bottom: 0;left: 50%;}#sk-191db4c4-75f3-4479-9750-e6e90d0862b6 div.sk-parallel-item {display: flex;flex-direction: column;position: relative;background-color: white;}#sk-191db4c4-75f3-4479-9750-e6e90d0862b6 div.sk-parallel-item:first-child::after {align-self: flex-end;width: 50%;}#sk-191db4c4-75f3-4479-9750-e6e90d0862b6 div.sk-parallel-item:last-child::after {align-self: flex-start;width: 50%;}#sk-191db4c4-75f3-4479-9750-e6e90d0862b6 div.sk-parallel-item:only-child::after {width: 0;}#sk-191db4c4-75f3-4479-9750-e6e90d0862b6 div.sk-dashed-wrapped {border: 1px dashed gray;margin: 0 0.4em 0.5em 0.4em;box-sizing: border-box;padding-bottom: 0.4em;background-color: white;position: relative;}#sk-191db4c4-75f3-4479-9750-e6e90d0862b6 div.sk-label label {font-family: monospace;font-weight: bold;background-color: white;display: inline-block;line-height: 1.2em;}#sk-191db4c4-75f3-4479-9750-e6e90d0862b6 div.sk-label-container {position: relative;z-index: 2;text-align: center;}#sk-191db4c4-75f3-4479-9750-e6e90d0862b6 div.sk-container {/* jupyter's `normalize.less` sets `[hidden] { display: none; }` but bootstrap.min.css set `[hidden] { display: none !important; }` so we also need the `!important` here to be able to override the default hidden behavior on the sphinx rendered scikit-learn.org. See: https://github.com/scikit-learn/scikit-learn/issues/21755 */display: inline-block !important;position: relative;}#sk-191db4c4-75f3-4479-9750-e6e90d0862b6 div.sk-text-repr-fallback {display: none;}</style><div id=\"sk-191db4c4-75f3-4479-9750-e6e90d0862b6\" class=\"sk-top-container\"><div class=\"sk-text-repr-fallback\"><pre>ColumnTransformer(transformers=[(&#x27;pipeline-1&#x27;,\n",
              "                                 Pipeline(steps=[(&#x27;simpleimputer&#x27;,\n",
              "                                                  SimpleImputer()),\n",
              "                                                 (&#x27;standardscaler&#x27;,\n",
              "                                                  StandardScaler())]),\n",
              "                                 &lt;sklearn.compose._column_transformer.make_column_selector object at 0x7fd09d8c54c0&gt;),\n",
              "                                (&#x27;pipeline-2&#x27;,\n",
              "                                 Pipeline(steps=[(&#x27;simpleimputer&#x27;,\n",
              "                                                  SimpleImputer(strategy=&#x27;most_frequent&#x27;)),\n",
              "                                                 (&#x27;onehotencoder&#x27;,\n",
              "                                                  OneHotEncoder(handle_unknown=&#x27;ignore&#x27;,\n",
              "                                                                sparse=False))]),\n",
              "                                 &lt;sklearn.compose._column_transformer.make_column_selector object at 0x7fd09d8c5d00&gt;)])</pre><b>Please rerun this cell to show the HTML repr or trust the notebook.</b></div><div class=\"sk-container\" hidden><div class=\"sk-item sk-dashed-wrapped\"><div class=\"sk-label-container\"><div class=\"sk-label sk-toggleable\"><input class=\"sk-toggleable__control sk-hidden--visually\" id=\"3ecec31d-7dc5-491e-8a9e-cd3a6cbbf519\" type=\"checkbox\" ><label for=\"3ecec31d-7dc5-491e-8a9e-cd3a6cbbf519\" class=\"sk-toggleable__label sk-toggleable__label-arrow\">ColumnTransformer</label><div class=\"sk-toggleable__content\"><pre>ColumnTransformer(transformers=[(&#x27;pipeline-1&#x27;,\n",
              "                                 Pipeline(steps=[(&#x27;simpleimputer&#x27;,\n",
              "                                                  SimpleImputer()),\n",
              "                                                 (&#x27;standardscaler&#x27;,\n",
              "                                                  StandardScaler())]),\n",
              "                                 &lt;sklearn.compose._column_transformer.make_column_selector object at 0x7fd09d8c54c0&gt;),\n",
              "                                (&#x27;pipeline-2&#x27;,\n",
              "                                 Pipeline(steps=[(&#x27;simpleimputer&#x27;,\n",
              "                                                  SimpleImputer(strategy=&#x27;most_frequent&#x27;)),\n",
              "                                                 (&#x27;onehotencoder&#x27;,\n",
              "                                                  OneHotEncoder(handle_unknown=&#x27;ignore&#x27;,\n",
              "                                                                sparse=False))]),\n",
              "                                 &lt;sklearn.compose._column_transformer.make_column_selector object at 0x7fd09d8c5d00&gt;)])</pre></div></div></div><div class=\"sk-parallel\"><div class=\"sk-parallel-item\"><div class=\"sk-item\"><div class=\"sk-label-container\"><div class=\"sk-label sk-toggleable\"><input class=\"sk-toggleable__control sk-hidden--visually\" id=\"25933ed5-6416-418e-95e9-6c7945fa099c\" type=\"checkbox\" ><label for=\"25933ed5-6416-418e-95e9-6c7945fa099c\" class=\"sk-toggleable__label sk-toggleable__label-arrow\">pipeline-1</label><div class=\"sk-toggleable__content\"><pre>&lt;sklearn.compose._column_transformer.make_column_selector object at 0x7fd09d8c54c0&gt;</pre></div></div></div><div class=\"sk-serial\"><div class=\"sk-item\"><div class=\"sk-serial\"><div class=\"sk-item\"><div class=\"sk-estimator sk-toggleable\"><input class=\"sk-toggleable__control sk-hidden--visually\" id=\"5afa6735-4c8e-412d-9ed7-5fd9cca22c5b\" type=\"checkbox\" ><label for=\"5afa6735-4c8e-412d-9ed7-5fd9cca22c5b\" class=\"sk-toggleable__label sk-toggleable__label-arrow\">SimpleImputer</label><div class=\"sk-toggleable__content\"><pre>SimpleImputer()</pre></div></div></div><div class=\"sk-item\"><div class=\"sk-estimator sk-toggleable\"><input class=\"sk-toggleable__control sk-hidden--visually\" id=\"189a4092-fe11-4e4d-984d-40408188afb1\" type=\"checkbox\" ><label for=\"189a4092-fe11-4e4d-984d-40408188afb1\" class=\"sk-toggleable__label sk-toggleable__label-arrow\">StandardScaler</label><div class=\"sk-toggleable__content\"><pre>StandardScaler()</pre></div></div></div></div></div></div></div></div><div class=\"sk-parallel-item\"><div class=\"sk-item\"><div class=\"sk-label-container\"><div class=\"sk-label sk-toggleable\"><input class=\"sk-toggleable__control sk-hidden--visually\" id=\"715a35c3-f5c1-419d-8b5f-145d986dcb38\" type=\"checkbox\" ><label for=\"715a35c3-f5c1-419d-8b5f-145d986dcb38\" class=\"sk-toggleable__label sk-toggleable__label-arrow\">pipeline-2</label><div class=\"sk-toggleable__content\"><pre>&lt;sklearn.compose._column_transformer.make_column_selector object at 0x7fd09d8c5d00&gt;</pre></div></div></div><div class=\"sk-serial\"><div class=\"sk-item\"><div class=\"sk-serial\"><div class=\"sk-item\"><div class=\"sk-estimator sk-toggleable\"><input class=\"sk-toggleable__control sk-hidden--visually\" id=\"a50bde06-f4ac-45ee-9aa5-2832943a83f3\" type=\"checkbox\" ><label for=\"a50bde06-f4ac-45ee-9aa5-2832943a83f3\" class=\"sk-toggleable__label sk-toggleable__label-arrow\">SimpleImputer</label><div class=\"sk-toggleable__content\"><pre>SimpleImputer(strategy=&#x27;most_frequent&#x27;)</pre></div></div></div><div class=\"sk-item\"><div class=\"sk-estimator sk-toggleable\"><input class=\"sk-toggleable__control sk-hidden--visually\" id=\"993e8751-2058-41ae-9d9a-8222ef05d6a9\" type=\"checkbox\" ><label for=\"993e8751-2058-41ae-9d9a-8222ef05d6a9\" class=\"sk-toggleable__label sk-toggleable__label-arrow\">OneHotEncoder</label><div class=\"sk-toggleable__content\"><pre>OneHotEncoder(handle_unknown=&#x27;ignore&#x27;, sparse=False)</pre></div></div></div></div></div></div></div></div></div></div></div></div>"
            ]
          },
          "metadata": {},
          "execution_count": 135
        }
      ]
    },
    {
      "cell_type": "code",
      "source": [
        "preprocessor.fit(X_train)"
      ],
      "metadata": {
        "colab": {
          "base_uri": "https://localhost:8080/",
          "height": 152
        },
        "id": "RP-SgLmLVW9Y",
        "outputId": "174ef27b-1e89-48e9-b261-b474c1e1e832"
      },
      "execution_count": 136,
      "outputs": [
        {
          "output_type": "execute_result",
          "data": {
            "text/plain": [
              "ColumnTransformer(transformers=[('pipeline-1',\n",
              "                                 Pipeline(steps=[('simpleimputer',\n",
              "                                                  SimpleImputer()),\n",
              "                                                 ('standardscaler',\n",
              "                                                  StandardScaler())]),\n",
              "                                 <sklearn.compose._column_transformer.make_column_selector object at 0x7fd09d8c54c0>),\n",
              "                                ('pipeline-2',\n",
              "                                 Pipeline(steps=[('simpleimputer',\n",
              "                                                  SimpleImputer(strategy='most_frequent')),\n",
              "                                                 ('onehotencoder',\n",
              "                                                  OneHotEncoder(handle_unknown='ignore',\n",
              "                                                                sparse=False))]),\n",
              "                                 <sklearn.compose._column_transformer.make_column_selector object at 0x7fd09d8c5d00>)])"
            ],
            "text/html": [
              "<style>#sk-a7b17412-6f6d-4326-a852-fc07c0559e2c {color: black;background-color: white;}#sk-a7b17412-6f6d-4326-a852-fc07c0559e2c pre{padding: 0;}#sk-a7b17412-6f6d-4326-a852-fc07c0559e2c div.sk-toggleable {background-color: white;}#sk-a7b17412-6f6d-4326-a852-fc07c0559e2c label.sk-toggleable__label {cursor: pointer;display: block;width: 100%;margin-bottom: 0;padding: 0.3em;box-sizing: border-box;text-align: center;}#sk-a7b17412-6f6d-4326-a852-fc07c0559e2c label.sk-toggleable__label-arrow:before {content: \"▸\";float: left;margin-right: 0.25em;color: #696969;}#sk-a7b17412-6f6d-4326-a852-fc07c0559e2c label.sk-toggleable__label-arrow:hover:before {color: black;}#sk-a7b17412-6f6d-4326-a852-fc07c0559e2c div.sk-estimator:hover label.sk-toggleable__label-arrow:before {color: black;}#sk-a7b17412-6f6d-4326-a852-fc07c0559e2c div.sk-toggleable__content {max-height: 0;max-width: 0;overflow: hidden;text-align: left;background-color: #f0f8ff;}#sk-a7b17412-6f6d-4326-a852-fc07c0559e2c div.sk-toggleable__content pre {margin: 0.2em;color: black;border-radius: 0.25em;background-color: #f0f8ff;}#sk-a7b17412-6f6d-4326-a852-fc07c0559e2c input.sk-toggleable__control:checked~div.sk-toggleable__content {max-height: 200px;max-width: 100%;overflow: auto;}#sk-a7b17412-6f6d-4326-a852-fc07c0559e2c input.sk-toggleable__control:checked~label.sk-toggleable__label-arrow:before {content: \"▾\";}#sk-a7b17412-6f6d-4326-a852-fc07c0559e2c div.sk-estimator input.sk-toggleable__control:checked~label.sk-toggleable__label {background-color: #d4ebff;}#sk-a7b17412-6f6d-4326-a852-fc07c0559e2c div.sk-label input.sk-toggleable__control:checked~label.sk-toggleable__label {background-color: #d4ebff;}#sk-a7b17412-6f6d-4326-a852-fc07c0559e2c input.sk-hidden--visually {border: 0;clip: rect(1px 1px 1px 1px);clip: rect(1px, 1px, 1px, 1px);height: 1px;margin: -1px;overflow: hidden;padding: 0;position: absolute;width: 1px;}#sk-a7b17412-6f6d-4326-a852-fc07c0559e2c div.sk-estimator {font-family: monospace;background-color: #f0f8ff;border: 1px dotted black;border-radius: 0.25em;box-sizing: border-box;margin-bottom: 0.5em;}#sk-a7b17412-6f6d-4326-a852-fc07c0559e2c div.sk-estimator:hover {background-color: #d4ebff;}#sk-a7b17412-6f6d-4326-a852-fc07c0559e2c div.sk-parallel-item::after {content: \"\";width: 100%;border-bottom: 1px solid gray;flex-grow: 1;}#sk-a7b17412-6f6d-4326-a852-fc07c0559e2c div.sk-label:hover label.sk-toggleable__label {background-color: #d4ebff;}#sk-a7b17412-6f6d-4326-a852-fc07c0559e2c div.sk-serial::before {content: \"\";position: absolute;border-left: 1px solid gray;box-sizing: border-box;top: 2em;bottom: 0;left: 50%;}#sk-a7b17412-6f6d-4326-a852-fc07c0559e2c div.sk-serial {display: flex;flex-direction: column;align-items: center;background-color: white;padding-right: 0.2em;padding-left: 0.2em;}#sk-a7b17412-6f6d-4326-a852-fc07c0559e2c div.sk-item {z-index: 1;}#sk-a7b17412-6f6d-4326-a852-fc07c0559e2c div.sk-parallel {display: flex;align-items: stretch;justify-content: center;background-color: white;}#sk-a7b17412-6f6d-4326-a852-fc07c0559e2c div.sk-parallel::before {content: \"\";position: absolute;border-left: 1px solid gray;box-sizing: border-box;top: 2em;bottom: 0;left: 50%;}#sk-a7b17412-6f6d-4326-a852-fc07c0559e2c div.sk-parallel-item {display: flex;flex-direction: column;position: relative;background-color: white;}#sk-a7b17412-6f6d-4326-a852-fc07c0559e2c div.sk-parallel-item:first-child::after {align-self: flex-end;width: 50%;}#sk-a7b17412-6f6d-4326-a852-fc07c0559e2c div.sk-parallel-item:last-child::after {align-self: flex-start;width: 50%;}#sk-a7b17412-6f6d-4326-a852-fc07c0559e2c div.sk-parallel-item:only-child::after {width: 0;}#sk-a7b17412-6f6d-4326-a852-fc07c0559e2c div.sk-dashed-wrapped {border: 1px dashed gray;margin: 0 0.4em 0.5em 0.4em;box-sizing: border-box;padding-bottom: 0.4em;background-color: white;position: relative;}#sk-a7b17412-6f6d-4326-a852-fc07c0559e2c div.sk-label label {font-family: monospace;font-weight: bold;background-color: white;display: inline-block;line-height: 1.2em;}#sk-a7b17412-6f6d-4326-a852-fc07c0559e2c div.sk-label-container {position: relative;z-index: 2;text-align: center;}#sk-a7b17412-6f6d-4326-a852-fc07c0559e2c div.sk-container {/* jupyter's `normalize.less` sets `[hidden] { display: none; }` but bootstrap.min.css set `[hidden] { display: none !important; }` so we also need the `!important` here to be able to override the default hidden behavior on the sphinx rendered scikit-learn.org. See: https://github.com/scikit-learn/scikit-learn/issues/21755 */display: inline-block !important;position: relative;}#sk-a7b17412-6f6d-4326-a852-fc07c0559e2c div.sk-text-repr-fallback {display: none;}</style><div id=\"sk-a7b17412-6f6d-4326-a852-fc07c0559e2c\" class=\"sk-top-container\"><div class=\"sk-text-repr-fallback\"><pre>ColumnTransformer(transformers=[(&#x27;pipeline-1&#x27;,\n",
              "                                 Pipeline(steps=[(&#x27;simpleimputer&#x27;,\n",
              "                                                  SimpleImputer()),\n",
              "                                                 (&#x27;standardscaler&#x27;,\n",
              "                                                  StandardScaler())]),\n",
              "                                 &lt;sklearn.compose._column_transformer.make_column_selector object at 0x7fd09d8c54c0&gt;),\n",
              "                                (&#x27;pipeline-2&#x27;,\n",
              "                                 Pipeline(steps=[(&#x27;simpleimputer&#x27;,\n",
              "                                                  SimpleImputer(strategy=&#x27;most_frequent&#x27;)),\n",
              "                                                 (&#x27;onehotencoder&#x27;,\n",
              "                                                  OneHotEncoder(handle_unknown=&#x27;ignore&#x27;,\n",
              "                                                                sparse=False))]),\n",
              "                                 &lt;sklearn.compose._column_transformer.make_column_selector object at 0x7fd09d8c5d00&gt;)])</pre><b>Please rerun this cell to show the HTML repr or trust the notebook.</b></div><div class=\"sk-container\" hidden><div class=\"sk-item sk-dashed-wrapped\"><div class=\"sk-label-container\"><div class=\"sk-label sk-toggleable\"><input class=\"sk-toggleable__control sk-hidden--visually\" id=\"b705c370-ae21-4f87-b580-b351271a420a\" type=\"checkbox\" ><label for=\"b705c370-ae21-4f87-b580-b351271a420a\" class=\"sk-toggleable__label sk-toggleable__label-arrow\">ColumnTransformer</label><div class=\"sk-toggleable__content\"><pre>ColumnTransformer(transformers=[(&#x27;pipeline-1&#x27;,\n",
              "                                 Pipeline(steps=[(&#x27;simpleimputer&#x27;,\n",
              "                                                  SimpleImputer()),\n",
              "                                                 (&#x27;standardscaler&#x27;,\n",
              "                                                  StandardScaler())]),\n",
              "                                 &lt;sklearn.compose._column_transformer.make_column_selector object at 0x7fd09d8c54c0&gt;),\n",
              "                                (&#x27;pipeline-2&#x27;,\n",
              "                                 Pipeline(steps=[(&#x27;simpleimputer&#x27;,\n",
              "                                                  SimpleImputer(strategy=&#x27;most_frequent&#x27;)),\n",
              "                                                 (&#x27;onehotencoder&#x27;,\n",
              "                                                  OneHotEncoder(handle_unknown=&#x27;ignore&#x27;,\n",
              "                                                                sparse=False))]),\n",
              "                                 &lt;sklearn.compose._column_transformer.make_column_selector object at 0x7fd09d8c5d00&gt;)])</pre></div></div></div><div class=\"sk-parallel\"><div class=\"sk-parallel-item\"><div class=\"sk-item\"><div class=\"sk-label-container\"><div class=\"sk-label sk-toggleable\"><input class=\"sk-toggleable__control sk-hidden--visually\" id=\"5ce521d4-a525-4ef1-8ea8-9a1381521da0\" type=\"checkbox\" ><label for=\"5ce521d4-a525-4ef1-8ea8-9a1381521da0\" class=\"sk-toggleable__label sk-toggleable__label-arrow\">pipeline-1</label><div class=\"sk-toggleable__content\"><pre>&lt;sklearn.compose._column_transformer.make_column_selector object at 0x7fd09d8c54c0&gt;</pre></div></div></div><div class=\"sk-serial\"><div class=\"sk-item\"><div class=\"sk-serial\"><div class=\"sk-item\"><div class=\"sk-estimator sk-toggleable\"><input class=\"sk-toggleable__control sk-hidden--visually\" id=\"6e89b527-8825-4b98-8d57-306ca9da8f8d\" type=\"checkbox\" ><label for=\"6e89b527-8825-4b98-8d57-306ca9da8f8d\" class=\"sk-toggleable__label sk-toggleable__label-arrow\">SimpleImputer</label><div class=\"sk-toggleable__content\"><pre>SimpleImputer()</pre></div></div></div><div class=\"sk-item\"><div class=\"sk-estimator sk-toggleable\"><input class=\"sk-toggleable__control sk-hidden--visually\" id=\"4df40942-09ed-48c3-8d29-2e1ea3303ebe\" type=\"checkbox\" ><label for=\"4df40942-09ed-48c3-8d29-2e1ea3303ebe\" class=\"sk-toggleable__label sk-toggleable__label-arrow\">StandardScaler</label><div class=\"sk-toggleable__content\"><pre>StandardScaler()</pre></div></div></div></div></div></div></div></div><div class=\"sk-parallel-item\"><div class=\"sk-item\"><div class=\"sk-label-container\"><div class=\"sk-label sk-toggleable\"><input class=\"sk-toggleable__control sk-hidden--visually\" id=\"478fa9da-71bb-4a0f-8109-ebe6b3beb096\" type=\"checkbox\" ><label for=\"478fa9da-71bb-4a0f-8109-ebe6b3beb096\" class=\"sk-toggleable__label sk-toggleable__label-arrow\">pipeline-2</label><div class=\"sk-toggleable__content\"><pre>&lt;sklearn.compose._column_transformer.make_column_selector object at 0x7fd09d8c5d00&gt;</pre></div></div></div><div class=\"sk-serial\"><div class=\"sk-item\"><div class=\"sk-serial\"><div class=\"sk-item\"><div class=\"sk-estimator sk-toggleable\"><input class=\"sk-toggleable__control sk-hidden--visually\" id=\"c095db7b-baef-453e-b22d-9c3d570f1a3d\" type=\"checkbox\" ><label for=\"c095db7b-baef-453e-b22d-9c3d570f1a3d\" class=\"sk-toggleable__label sk-toggleable__label-arrow\">SimpleImputer</label><div class=\"sk-toggleable__content\"><pre>SimpleImputer(strategy=&#x27;most_frequent&#x27;)</pre></div></div></div><div class=\"sk-item\"><div class=\"sk-estimator sk-toggleable\"><input class=\"sk-toggleable__control sk-hidden--visually\" id=\"e6b7f0e6-8055-4d8c-98f1-97b1c3a9b596\" type=\"checkbox\" ><label for=\"e6b7f0e6-8055-4d8c-98f1-97b1c3a9b596\" class=\"sk-toggleable__label sk-toggleable__label-arrow\">OneHotEncoder</label><div class=\"sk-toggleable__content\"><pre>OneHotEncoder(handle_unknown=&#x27;ignore&#x27;, sparse=False)</pre></div></div></div></div></div></div></div></div></div></div></div></div>"
            ]
          },
          "metadata": {},
          "execution_count": 136
        }
      ]
    },
    {
      "cell_type": "code",
      "source": [
        "type(preprocessor)"
      ],
      "metadata": {
        "colab": {
          "base_uri": "https://localhost:8080/"
        },
        "id": "Dmskue-oYrW4",
        "outputId": "f2a6dddd-af50-4b22-d420-35b67aa46bcd"
      },
      "execution_count": 137,
      "outputs": [
        {
          "output_type": "execute_result",
          "data": {
            "text/plain": [
              "sklearn.compose._column_transformer.ColumnTransformer"
            ]
          },
          "metadata": {},
          "execution_count": 137
        }
      ]
    },
    {
      "cell_type": "code",
      "source": [
        "X_train_transformed = preprocessor.transform(X_train)\n",
        "X_test_transformed = preprocessor.transform(X_test)"
      ],
      "metadata": {
        "id": "t6_5_nD_Xv7w"
      },
      "execution_count": 138,
      "outputs": []
    },
    {
      "cell_type": "markdown",
      "source": [
        "### Check Results\n"
      ],
      "metadata": {
        "id": "dYHKkBV-YEEM"
      }
    },
    {
      "cell_type": "code",
      "source": [
        "print(np.isnan(X_train_transformed).sum().sum(), 'missing values in training data')\n",
        "print(np.isnan(X_test_transformed).sum().sum(), 'missing values in testing data')\n",
        "print('\\n')\n",
        "print('All data in X_train_transformed are', X_train_transformed.dtype)\n",
        "print('All data in X_test_transformed are', X_test_transformed.dtype)\n",
        "print('\\n')\n",
        "print('shape of data is', X_train_transformed.shape)\n",
        "print('\\n')\n",
        "X_train_transformed"
      ],
      "metadata": {
        "colab": {
          "base_uri": "https://localhost:8080/"
        },
        "id": "tQ1lNWBcXxfR",
        "outputId": "1a096959-6ee9-492d-f05f-cce02a59d180"
      },
      "execution_count": 139,
      "outputs": [
        {
          "output_type": "stream",
          "name": "stdout",
          "text": [
            "0 missing values in training data\n",
            "0 missing values in testing data\n",
            "\n",
            "\n",
            "All data in X_train_transformed are float64\n",
            "All data in X_test_transformed are float64\n",
            "\n",
            "\n",
            "shape of data is (6392, 39)\n",
            "\n",
            "\n"
          ]
        },
        {
          "output_type": "execute_result",
          "data": {
            "text/plain": [
              "array([[ 0.81724868, -0.71277507,  1.82810922, ...,  0.        ,\n",
              "         1.        ,  0.        ],\n",
              "       [ 0.5563395 , -1.29105225,  0.60336888, ...,  0.        ,\n",
              "         1.        ,  0.        ],\n",
              "       [-0.13151196,  1.81331864,  0.24454056, ...,  1.        ,\n",
              "         0.        ,  0.        ],\n",
              "       ...,\n",
              "       [ 1.11373638, -0.92052713,  1.52302674, ...,  1.        ,\n",
              "         0.        ,  0.        ],\n",
              "       [ 1.76600931, -0.2277552 , -0.38377708, ...,  1.        ,\n",
              "         0.        ,  0.        ],\n",
              "       [ 0.81724868, -0.95867683, -0.73836105, ...,  1.        ,\n",
              "         0.        ,  0.        ]])"
            ]
          },
          "metadata": {},
          "execution_count": 139
        }
      ]
    },
    {
      "cell_type": "markdown",
      "source": [
        "#Machine Learning - Training the Models\n",
        "\n",
        "Tasks:\n",
        "\n",
        "Build a linear regression model to predict sales.\n",
        "\n",
        "Build a linear regression model.\n",
        "Evaluate the performance of your model based on r^2.\n",
        "\n",
        "Evaluate the performance of your model based on rmse.\n",
        "\n",
        "Build a regression tree model to predict sales.\n",
        "\n",
        "Build a simple regression tree model.\n",
        "Compare the performance of your model based on r^2.\n",
        "Compare the performance of your model based on rmse.\n",
        "\n",
        "*Determine* which model to implement.\n",
        "\n",
        "Overall, which model do you recommend?\n",
        "Justify your recommendation."
      ],
      "metadata": {
        "id": "U4GWxU4b9iIj"
      }
    },
    {
      "cell_type": "code",
      "source": [
        "preprocessor"
      ],
      "metadata": {
        "colab": {
          "base_uri": "https://localhost:8080/",
          "height": 152
        },
        "id": "1WCwSt7r-RJi",
        "outputId": "698bd22a-cccb-41a7-d6a4-db4a4ca80902"
      },
      "execution_count": 140,
      "outputs": [
        {
          "output_type": "execute_result",
          "data": {
            "text/plain": [
              "ColumnTransformer(transformers=[('pipeline-1',\n",
              "                                 Pipeline(steps=[('simpleimputer',\n",
              "                                                  SimpleImputer()),\n",
              "                                                 ('standardscaler',\n",
              "                                                  StandardScaler())]),\n",
              "                                 <sklearn.compose._column_transformer.make_column_selector object at 0x7fd09d8c54c0>),\n",
              "                                ('pipeline-2',\n",
              "                                 Pipeline(steps=[('simpleimputer',\n",
              "                                                  SimpleImputer(strategy='most_frequent')),\n",
              "                                                 ('onehotencoder',\n",
              "                                                  OneHotEncoder(handle_unknown='ignore',\n",
              "                                                                sparse=False))]),\n",
              "                                 <sklearn.compose._column_transformer.make_column_selector object at 0x7fd09d8c5d00>)])"
            ],
            "text/html": [
              "<style>#sk-4421040d-85ff-46e6-9ce1-74fe7526ef29 {color: black;background-color: white;}#sk-4421040d-85ff-46e6-9ce1-74fe7526ef29 pre{padding: 0;}#sk-4421040d-85ff-46e6-9ce1-74fe7526ef29 div.sk-toggleable {background-color: white;}#sk-4421040d-85ff-46e6-9ce1-74fe7526ef29 label.sk-toggleable__label {cursor: pointer;display: block;width: 100%;margin-bottom: 0;padding: 0.3em;box-sizing: border-box;text-align: center;}#sk-4421040d-85ff-46e6-9ce1-74fe7526ef29 label.sk-toggleable__label-arrow:before {content: \"▸\";float: left;margin-right: 0.25em;color: #696969;}#sk-4421040d-85ff-46e6-9ce1-74fe7526ef29 label.sk-toggleable__label-arrow:hover:before {color: black;}#sk-4421040d-85ff-46e6-9ce1-74fe7526ef29 div.sk-estimator:hover label.sk-toggleable__label-arrow:before {color: black;}#sk-4421040d-85ff-46e6-9ce1-74fe7526ef29 div.sk-toggleable__content {max-height: 0;max-width: 0;overflow: hidden;text-align: left;background-color: #f0f8ff;}#sk-4421040d-85ff-46e6-9ce1-74fe7526ef29 div.sk-toggleable__content pre {margin: 0.2em;color: black;border-radius: 0.25em;background-color: #f0f8ff;}#sk-4421040d-85ff-46e6-9ce1-74fe7526ef29 input.sk-toggleable__control:checked~div.sk-toggleable__content {max-height: 200px;max-width: 100%;overflow: auto;}#sk-4421040d-85ff-46e6-9ce1-74fe7526ef29 input.sk-toggleable__control:checked~label.sk-toggleable__label-arrow:before {content: \"▾\";}#sk-4421040d-85ff-46e6-9ce1-74fe7526ef29 div.sk-estimator input.sk-toggleable__control:checked~label.sk-toggleable__label {background-color: #d4ebff;}#sk-4421040d-85ff-46e6-9ce1-74fe7526ef29 div.sk-label input.sk-toggleable__control:checked~label.sk-toggleable__label {background-color: #d4ebff;}#sk-4421040d-85ff-46e6-9ce1-74fe7526ef29 input.sk-hidden--visually {border: 0;clip: rect(1px 1px 1px 1px);clip: rect(1px, 1px, 1px, 1px);height: 1px;margin: -1px;overflow: hidden;padding: 0;position: absolute;width: 1px;}#sk-4421040d-85ff-46e6-9ce1-74fe7526ef29 div.sk-estimator {font-family: monospace;background-color: #f0f8ff;border: 1px dotted black;border-radius: 0.25em;box-sizing: border-box;margin-bottom: 0.5em;}#sk-4421040d-85ff-46e6-9ce1-74fe7526ef29 div.sk-estimator:hover {background-color: #d4ebff;}#sk-4421040d-85ff-46e6-9ce1-74fe7526ef29 div.sk-parallel-item::after {content: \"\";width: 100%;border-bottom: 1px solid gray;flex-grow: 1;}#sk-4421040d-85ff-46e6-9ce1-74fe7526ef29 div.sk-label:hover label.sk-toggleable__label {background-color: #d4ebff;}#sk-4421040d-85ff-46e6-9ce1-74fe7526ef29 div.sk-serial::before {content: \"\";position: absolute;border-left: 1px solid gray;box-sizing: border-box;top: 2em;bottom: 0;left: 50%;}#sk-4421040d-85ff-46e6-9ce1-74fe7526ef29 div.sk-serial {display: flex;flex-direction: column;align-items: center;background-color: white;padding-right: 0.2em;padding-left: 0.2em;}#sk-4421040d-85ff-46e6-9ce1-74fe7526ef29 div.sk-item {z-index: 1;}#sk-4421040d-85ff-46e6-9ce1-74fe7526ef29 div.sk-parallel {display: flex;align-items: stretch;justify-content: center;background-color: white;}#sk-4421040d-85ff-46e6-9ce1-74fe7526ef29 div.sk-parallel::before {content: \"\";position: absolute;border-left: 1px solid gray;box-sizing: border-box;top: 2em;bottom: 0;left: 50%;}#sk-4421040d-85ff-46e6-9ce1-74fe7526ef29 div.sk-parallel-item {display: flex;flex-direction: column;position: relative;background-color: white;}#sk-4421040d-85ff-46e6-9ce1-74fe7526ef29 div.sk-parallel-item:first-child::after {align-self: flex-end;width: 50%;}#sk-4421040d-85ff-46e6-9ce1-74fe7526ef29 div.sk-parallel-item:last-child::after {align-self: flex-start;width: 50%;}#sk-4421040d-85ff-46e6-9ce1-74fe7526ef29 div.sk-parallel-item:only-child::after {width: 0;}#sk-4421040d-85ff-46e6-9ce1-74fe7526ef29 div.sk-dashed-wrapped {border: 1px dashed gray;margin: 0 0.4em 0.5em 0.4em;box-sizing: border-box;padding-bottom: 0.4em;background-color: white;position: relative;}#sk-4421040d-85ff-46e6-9ce1-74fe7526ef29 div.sk-label label {font-family: monospace;font-weight: bold;background-color: white;display: inline-block;line-height: 1.2em;}#sk-4421040d-85ff-46e6-9ce1-74fe7526ef29 div.sk-label-container {position: relative;z-index: 2;text-align: center;}#sk-4421040d-85ff-46e6-9ce1-74fe7526ef29 div.sk-container {/* jupyter's `normalize.less` sets `[hidden] { display: none; }` but bootstrap.min.css set `[hidden] { display: none !important; }` so we also need the `!important` here to be able to override the default hidden behavior on the sphinx rendered scikit-learn.org. See: https://github.com/scikit-learn/scikit-learn/issues/21755 */display: inline-block !important;position: relative;}#sk-4421040d-85ff-46e6-9ce1-74fe7526ef29 div.sk-text-repr-fallback {display: none;}</style><div id=\"sk-4421040d-85ff-46e6-9ce1-74fe7526ef29\" class=\"sk-top-container\"><div class=\"sk-text-repr-fallback\"><pre>ColumnTransformer(transformers=[(&#x27;pipeline-1&#x27;,\n",
              "                                 Pipeline(steps=[(&#x27;simpleimputer&#x27;,\n",
              "                                                  SimpleImputer()),\n",
              "                                                 (&#x27;standardscaler&#x27;,\n",
              "                                                  StandardScaler())]),\n",
              "                                 &lt;sklearn.compose._column_transformer.make_column_selector object at 0x7fd09d8c54c0&gt;),\n",
              "                                (&#x27;pipeline-2&#x27;,\n",
              "                                 Pipeline(steps=[(&#x27;simpleimputer&#x27;,\n",
              "                                                  SimpleImputer(strategy=&#x27;most_frequent&#x27;)),\n",
              "                                                 (&#x27;onehotencoder&#x27;,\n",
              "                                                  OneHotEncoder(handle_unknown=&#x27;ignore&#x27;,\n",
              "                                                                sparse=False))]),\n",
              "                                 &lt;sklearn.compose._column_transformer.make_column_selector object at 0x7fd09d8c5d00&gt;)])</pre><b>Please rerun this cell to show the HTML repr or trust the notebook.</b></div><div class=\"sk-container\" hidden><div class=\"sk-item sk-dashed-wrapped\"><div class=\"sk-label-container\"><div class=\"sk-label sk-toggleable\"><input class=\"sk-toggleable__control sk-hidden--visually\" id=\"cdc25f5a-91c1-4462-bc0d-a89264e0f505\" type=\"checkbox\" ><label for=\"cdc25f5a-91c1-4462-bc0d-a89264e0f505\" class=\"sk-toggleable__label sk-toggleable__label-arrow\">ColumnTransformer</label><div class=\"sk-toggleable__content\"><pre>ColumnTransformer(transformers=[(&#x27;pipeline-1&#x27;,\n",
              "                                 Pipeline(steps=[(&#x27;simpleimputer&#x27;,\n",
              "                                                  SimpleImputer()),\n",
              "                                                 (&#x27;standardscaler&#x27;,\n",
              "                                                  StandardScaler())]),\n",
              "                                 &lt;sklearn.compose._column_transformer.make_column_selector object at 0x7fd09d8c54c0&gt;),\n",
              "                                (&#x27;pipeline-2&#x27;,\n",
              "                                 Pipeline(steps=[(&#x27;simpleimputer&#x27;,\n",
              "                                                  SimpleImputer(strategy=&#x27;most_frequent&#x27;)),\n",
              "                                                 (&#x27;onehotencoder&#x27;,\n",
              "                                                  OneHotEncoder(handle_unknown=&#x27;ignore&#x27;,\n",
              "                                                                sparse=False))]),\n",
              "                                 &lt;sklearn.compose._column_transformer.make_column_selector object at 0x7fd09d8c5d00&gt;)])</pre></div></div></div><div class=\"sk-parallel\"><div class=\"sk-parallel-item\"><div class=\"sk-item\"><div class=\"sk-label-container\"><div class=\"sk-label sk-toggleable\"><input class=\"sk-toggleable__control sk-hidden--visually\" id=\"ede75a47-ca57-4fed-9446-2d883ee62c9d\" type=\"checkbox\" ><label for=\"ede75a47-ca57-4fed-9446-2d883ee62c9d\" class=\"sk-toggleable__label sk-toggleable__label-arrow\">pipeline-1</label><div class=\"sk-toggleable__content\"><pre>&lt;sklearn.compose._column_transformer.make_column_selector object at 0x7fd09d8c54c0&gt;</pre></div></div></div><div class=\"sk-serial\"><div class=\"sk-item\"><div class=\"sk-serial\"><div class=\"sk-item\"><div class=\"sk-estimator sk-toggleable\"><input class=\"sk-toggleable__control sk-hidden--visually\" id=\"2ad8cdbf-4a66-4cc1-98ec-d6d2e6289442\" type=\"checkbox\" ><label for=\"2ad8cdbf-4a66-4cc1-98ec-d6d2e6289442\" class=\"sk-toggleable__label sk-toggleable__label-arrow\">SimpleImputer</label><div class=\"sk-toggleable__content\"><pre>SimpleImputer()</pre></div></div></div><div class=\"sk-item\"><div class=\"sk-estimator sk-toggleable\"><input class=\"sk-toggleable__control sk-hidden--visually\" id=\"795010f4-e420-4099-837f-186e3f5c55fc\" type=\"checkbox\" ><label for=\"795010f4-e420-4099-837f-186e3f5c55fc\" class=\"sk-toggleable__label sk-toggleable__label-arrow\">StandardScaler</label><div class=\"sk-toggleable__content\"><pre>StandardScaler()</pre></div></div></div></div></div></div></div></div><div class=\"sk-parallel-item\"><div class=\"sk-item\"><div class=\"sk-label-container\"><div class=\"sk-label sk-toggleable\"><input class=\"sk-toggleable__control sk-hidden--visually\" id=\"214cf1e5-3246-4ef9-86c2-979be6e7f8aa\" type=\"checkbox\" ><label for=\"214cf1e5-3246-4ef9-86c2-979be6e7f8aa\" class=\"sk-toggleable__label sk-toggleable__label-arrow\">pipeline-2</label><div class=\"sk-toggleable__content\"><pre>&lt;sklearn.compose._column_transformer.make_column_selector object at 0x7fd09d8c5d00&gt;</pre></div></div></div><div class=\"sk-serial\"><div class=\"sk-item\"><div class=\"sk-serial\"><div class=\"sk-item\"><div class=\"sk-estimator sk-toggleable\"><input class=\"sk-toggleable__control sk-hidden--visually\" id=\"de7adec0-7746-43f3-b23b-60858c6fc4c7\" type=\"checkbox\" ><label for=\"de7adec0-7746-43f3-b23b-60858c6fc4c7\" class=\"sk-toggleable__label sk-toggleable__label-arrow\">SimpleImputer</label><div class=\"sk-toggleable__content\"><pre>SimpleImputer(strategy=&#x27;most_frequent&#x27;)</pre></div></div></div><div class=\"sk-item\"><div class=\"sk-estimator sk-toggleable\"><input class=\"sk-toggleable__control sk-hidden--visually\" id=\"61855f30-587f-47b4-aff8-436afb2086ad\" type=\"checkbox\" ><label for=\"61855f30-587f-47b4-aff8-436afb2086ad\" class=\"sk-toggleable__label sk-toggleable__label-arrow\">OneHotEncoder</label><div class=\"sk-toggleable__content\"><pre>OneHotEncoder(handle_unknown=&#x27;ignore&#x27;, sparse=False)</pre></div></div></div></div></div></div></div></div></div></div></div></div>"
            ]
          },
          "metadata": {},
          "execution_count": 140
        }
      ]
    },
    {
      "cell_type": "markdown",
      "source": [
        "##Fitting a Linear Regression Model"
      ],
      "metadata": {
        "id": "_gUQ12_KAX7I"
      }
    },
    {
      "cell_type": "code",
      "source": [
        "linreg_pipe = make_pipeline(preprocessor,LinearRegression())\n",
        "linreg_pipe.fit(X_train, y_train)"
      ],
      "metadata": {
        "colab": {
          "base_uri": "https://localhost:8080/",
          "height": 226
        },
        "id": "ahfaDaFPAZrp",
        "outputId": "586dc9fa-d743-4946-f2a7-c8182e5ddc59"
      },
      "execution_count": 141,
      "outputs": [
        {
          "output_type": "execute_result",
          "data": {
            "text/plain": [
              "Pipeline(steps=[('columntransformer',\n",
              "                 ColumnTransformer(transformers=[('pipeline-1',\n",
              "                                                  Pipeline(steps=[('simpleimputer',\n",
              "                                                                   SimpleImputer()),\n",
              "                                                                  ('standardscaler',\n",
              "                                                                   StandardScaler())]),\n",
              "                                                  <sklearn.compose._column_transformer.make_column_selector object at 0x7fd09d8c54c0>),\n",
              "                                                 ('pipeline-2',\n",
              "                                                  Pipeline(steps=[('simpleimputer',\n",
              "                                                                   SimpleImputer(strategy='most_frequent')),\n",
              "                                                                  ('onehotencoder',\n",
              "                                                                   OneHotEncoder(handle_unknown='ignore',\n",
              "                                                                                 sparse=False))]),\n",
              "                                                  <sklearn.compose._column_transformer.make_column_selector object at 0x7fd09d8c5d00>)])),\n",
              "                ('linearregression', LinearRegression())])"
            ],
            "text/html": [
              "<style>#sk-e1f923fc-f953-4304-8150-e89ff71b75b8 {color: black;background-color: white;}#sk-e1f923fc-f953-4304-8150-e89ff71b75b8 pre{padding: 0;}#sk-e1f923fc-f953-4304-8150-e89ff71b75b8 div.sk-toggleable {background-color: white;}#sk-e1f923fc-f953-4304-8150-e89ff71b75b8 label.sk-toggleable__label {cursor: pointer;display: block;width: 100%;margin-bottom: 0;padding: 0.3em;box-sizing: border-box;text-align: center;}#sk-e1f923fc-f953-4304-8150-e89ff71b75b8 label.sk-toggleable__label-arrow:before {content: \"▸\";float: left;margin-right: 0.25em;color: #696969;}#sk-e1f923fc-f953-4304-8150-e89ff71b75b8 label.sk-toggleable__label-arrow:hover:before {color: black;}#sk-e1f923fc-f953-4304-8150-e89ff71b75b8 div.sk-estimator:hover label.sk-toggleable__label-arrow:before {color: black;}#sk-e1f923fc-f953-4304-8150-e89ff71b75b8 div.sk-toggleable__content {max-height: 0;max-width: 0;overflow: hidden;text-align: left;background-color: #f0f8ff;}#sk-e1f923fc-f953-4304-8150-e89ff71b75b8 div.sk-toggleable__content pre {margin: 0.2em;color: black;border-radius: 0.25em;background-color: #f0f8ff;}#sk-e1f923fc-f953-4304-8150-e89ff71b75b8 input.sk-toggleable__control:checked~div.sk-toggleable__content {max-height: 200px;max-width: 100%;overflow: auto;}#sk-e1f923fc-f953-4304-8150-e89ff71b75b8 input.sk-toggleable__control:checked~label.sk-toggleable__label-arrow:before {content: \"▾\";}#sk-e1f923fc-f953-4304-8150-e89ff71b75b8 div.sk-estimator input.sk-toggleable__control:checked~label.sk-toggleable__label {background-color: #d4ebff;}#sk-e1f923fc-f953-4304-8150-e89ff71b75b8 div.sk-label input.sk-toggleable__control:checked~label.sk-toggleable__label {background-color: #d4ebff;}#sk-e1f923fc-f953-4304-8150-e89ff71b75b8 input.sk-hidden--visually {border: 0;clip: rect(1px 1px 1px 1px);clip: rect(1px, 1px, 1px, 1px);height: 1px;margin: -1px;overflow: hidden;padding: 0;position: absolute;width: 1px;}#sk-e1f923fc-f953-4304-8150-e89ff71b75b8 div.sk-estimator {font-family: monospace;background-color: #f0f8ff;border: 1px dotted black;border-radius: 0.25em;box-sizing: border-box;margin-bottom: 0.5em;}#sk-e1f923fc-f953-4304-8150-e89ff71b75b8 div.sk-estimator:hover {background-color: #d4ebff;}#sk-e1f923fc-f953-4304-8150-e89ff71b75b8 div.sk-parallel-item::after {content: \"\";width: 100%;border-bottom: 1px solid gray;flex-grow: 1;}#sk-e1f923fc-f953-4304-8150-e89ff71b75b8 div.sk-label:hover label.sk-toggleable__label {background-color: #d4ebff;}#sk-e1f923fc-f953-4304-8150-e89ff71b75b8 div.sk-serial::before {content: \"\";position: absolute;border-left: 1px solid gray;box-sizing: border-box;top: 2em;bottom: 0;left: 50%;}#sk-e1f923fc-f953-4304-8150-e89ff71b75b8 div.sk-serial {display: flex;flex-direction: column;align-items: center;background-color: white;padding-right: 0.2em;padding-left: 0.2em;}#sk-e1f923fc-f953-4304-8150-e89ff71b75b8 div.sk-item {z-index: 1;}#sk-e1f923fc-f953-4304-8150-e89ff71b75b8 div.sk-parallel {display: flex;align-items: stretch;justify-content: center;background-color: white;}#sk-e1f923fc-f953-4304-8150-e89ff71b75b8 div.sk-parallel::before {content: \"\";position: absolute;border-left: 1px solid gray;box-sizing: border-box;top: 2em;bottom: 0;left: 50%;}#sk-e1f923fc-f953-4304-8150-e89ff71b75b8 div.sk-parallel-item {display: flex;flex-direction: column;position: relative;background-color: white;}#sk-e1f923fc-f953-4304-8150-e89ff71b75b8 div.sk-parallel-item:first-child::after {align-self: flex-end;width: 50%;}#sk-e1f923fc-f953-4304-8150-e89ff71b75b8 div.sk-parallel-item:last-child::after {align-self: flex-start;width: 50%;}#sk-e1f923fc-f953-4304-8150-e89ff71b75b8 div.sk-parallel-item:only-child::after {width: 0;}#sk-e1f923fc-f953-4304-8150-e89ff71b75b8 div.sk-dashed-wrapped {border: 1px dashed gray;margin: 0 0.4em 0.5em 0.4em;box-sizing: border-box;padding-bottom: 0.4em;background-color: white;position: relative;}#sk-e1f923fc-f953-4304-8150-e89ff71b75b8 div.sk-label label {font-family: monospace;font-weight: bold;background-color: white;display: inline-block;line-height: 1.2em;}#sk-e1f923fc-f953-4304-8150-e89ff71b75b8 div.sk-label-container {position: relative;z-index: 2;text-align: center;}#sk-e1f923fc-f953-4304-8150-e89ff71b75b8 div.sk-container {/* jupyter's `normalize.less` sets `[hidden] { display: none; }` but bootstrap.min.css set `[hidden] { display: none !important; }` so we also need the `!important` here to be able to override the default hidden behavior on the sphinx rendered scikit-learn.org. See: https://github.com/scikit-learn/scikit-learn/issues/21755 */display: inline-block !important;position: relative;}#sk-e1f923fc-f953-4304-8150-e89ff71b75b8 div.sk-text-repr-fallback {display: none;}</style><div id=\"sk-e1f923fc-f953-4304-8150-e89ff71b75b8\" class=\"sk-top-container\"><div class=\"sk-text-repr-fallback\"><pre>Pipeline(steps=[(&#x27;columntransformer&#x27;,\n",
              "                 ColumnTransformer(transformers=[(&#x27;pipeline-1&#x27;,\n",
              "                                                  Pipeline(steps=[(&#x27;simpleimputer&#x27;,\n",
              "                                                                   SimpleImputer()),\n",
              "                                                                  (&#x27;standardscaler&#x27;,\n",
              "                                                                   StandardScaler())]),\n",
              "                                                  &lt;sklearn.compose._column_transformer.make_column_selector object at 0x7fd09d8c54c0&gt;),\n",
              "                                                 (&#x27;pipeline-2&#x27;,\n",
              "                                                  Pipeline(steps=[(&#x27;simpleimputer&#x27;,\n",
              "                                                                   SimpleImputer(strategy=&#x27;most_frequent&#x27;)),\n",
              "                                                                  (&#x27;onehotencoder&#x27;,\n",
              "                                                                   OneHotEncoder(handle_unknown=&#x27;ignore&#x27;,\n",
              "                                                                                 sparse=False))]),\n",
              "                                                  &lt;sklearn.compose._column_transformer.make_column_selector object at 0x7fd09d8c5d00&gt;)])),\n",
              "                (&#x27;linearregression&#x27;, LinearRegression())])</pre><b>Please rerun this cell to show the HTML repr or trust the notebook.</b></div><div class=\"sk-container\" hidden><div class=\"sk-item sk-dashed-wrapped\"><div class=\"sk-label-container\"><div class=\"sk-label sk-toggleable\"><input class=\"sk-toggleable__control sk-hidden--visually\" id=\"a97d8494-f4fb-496f-b9eb-feb985afb597\" type=\"checkbox\" ><label for=\"a97d8494-f4fb-496f-b9eb-feb985afb597\" class=\"sk-toggleable__label sk-toggleable__label-arrow\">Pipeline</label><div class=\"sk-toggleable__content\"><pre>Pipeline(steps=[(&#x27;columntransformer&#x27;,\n",
              "                 ColumnTransformer(transformers=[(&#x27;pipeline-1&#x27;,\n",
              "                                                  Pipeline(steps=[(&#x27;simpleimputer&#x27;,\n",
              "                                                                   SimpleImputer()),\n",
              "                                                                  (&#x27;standardscaler&#x27;,\n",
              "                                                                   StandardScaler())]),\n",
              "                                                  &lt;sklearn.compose._column_transformer.make_column_selector object at 0x7fd09d8c54c0&gt;),\n",
              "                                                 (&#x27;pipeline-2&#x27;,\n",
              "                                                  Pipeline(steps=[(&#x27;simpleimputer&#x27;,\n",
              "                                                                   SimpleImputer(strategy=&#x27;most_frequent&#x27;)),\n",
              "                                                                  (&#x27;onehotencoder&#x27;,\n",
              "                                                                   OneHotEncoder(handle_unknown=&#x27;ignore&#x27;,\n",
              "                                                                                 sparse=False))]),\n",
              "                                                  &lt;sklearn.compose._column_transformer.make_column_selector object at 0x7fd09d8c5d00&gt;)])),\n",
              "                (&#x27;linearregression&#x27;, LinearRegression())])</pre></div></div></div><div class=\"sk-serial\"><div class=\"sk-item sk-dashed-wrapped\"><div class=\"sk-label-container\"><div class=\"sk-label sk-toggleable\"><input class=\"sk-toggleable__control sk-hidden--visually\" id=\"0958d920-9031-4f89-a17f-79c27357b2ac\" type=\"checkbox\" ><label for=\"0958d920-9031-4f89-a17f-79c27357b2ac\" class=\"sk-toggleable__label sk-toggleable__label-arrow\">columntransformer: ColumnTransformer</label><div class=\"sk-toggleable__content\"><pre>ColumnTransformer(transformers=[(&#x27;pipeline-1&#x27;,\n",
              "                                 Pipeline(steps=[(&#x27;simpleimputer&#x27;,\n",
              "                                                  SimpleImputer()),\n",
              "                                                 (&#x27;standardscaler&#x27;,\n",
              "                                                  StandardScaler())]),\n",
              "                                 &lt;sklearn.compose._column_transformer.make_column_selector object at 0x7fd09d8c54c0&gt;),\n",
              "                                (&#x27;pipeline-2&#x27;,\n",
              "                                 Pipeline(steps=[(&#x27;simpleimputer&#x27;,\n",
              "                                                  SimpleImputer(strategy=&#x27;most_frequent&#x27;)),\n",
              "                                                 (&#x27;onehotencoder&#x27;,\n",
              "                                                  OneHotEncoder(handle_unknown=&#x27;ignore&#x27;,\n",
              "                                                                sparse=False))]),\n",
              "                                 &lt;sklearn.compose._column_transformer.make_column_selector object at 0x7fd09d8c5d00&gt;)])</pre></div></div></div><div class=\"sk-parallel\"><div class=\"sk-parallel-item\"><div class=\"sk-item\"><div class=\"sk-label-container\"><div class=\"sk-label sk-toggleable\"><input class=\"sk-toggleable__control sk-hidden--visually\" id=\"c0958b1d-d238-425f-9827-f55beb2da697\" type=\"checkbox\" ><label for=\"c0958b1d-d238-425f-9827-f55beb2da697\" class=\"sk-toggleable__label sk-toggleable__label-arrow\">pipeline-1</label><div class=\"sk-toggleable__content\"><pre>&lt;sklearn.compose._column_transformer.make_column_selector object at 0x7fd09d8c54c0&gt;</pre></div></div></div><div class=\"sk-serial\"><div class=\"sk-item\"><div class=\"sk-serial\"><div class=\"sk-item\"><div class=\"sk-estimator sk-toggleable\"><input class=\"sk-toggleable__control sk-hidden--visually\" id=\"ad2f392f-77a0-4a80-8fbb-c612fabc1dfa\" type=\"checkbox\" ><label for=\"ad2f392f-77a0-4a80-8fbb-c612fabc1dfa\" class=\"sk-toggleable__label sk-toggleable__label-arrow\">SimpleImputer</label><div class=\"sk-toggleable__content\"><pre>SimpleImputer()</pre></div></div></div><div class=\"sk-item\"><div class=\"sk-estimator sk-toggleable\"><input class=\"sk-toggleable__control sk-hidden--visually\" id=\"54b938eb-66f7-4453-be8b-a88de694a174\" type=\"checkbox\" ><label for=\"54b938eb-66f7-4453-be8b-a88de694a174\" class=\"sk-toggleable__label sk-toggleable__label-arrow\">StandardScaler</label><div class=\"sk-toggleable__content\"><pre>StandardScaler()</pre></div></div></div></div></div></div></div></div><div class=\"sk-parallel-item\"><div class=\"sk-item\"><div class=\"sk-label-container\"><div class=\"sk-label sk-toggleable\"><input class=\"sk-toggleable__control sk-hidden--visually\" id=\"7b677b6f-fb9e-4394-bc2d-2d5c5f67b678\" type=\"checkbox\" ><label for=\"7b677b6f-fb9e-4394-bc2d-2d5c5f67b678\" class=\"sk-toggleable__label sk-toggleable__label-arrow\">pipeline-2</label><div class=\"sk-toggleable__content\"><pre>&lt;sklearn.compose._column_transformer.make_column_selector object at 0x7fd09d8c5d00&gt;</pre></div></div></div><div class=\"sk-serial\"><div class=\"sk-item\"><div class=\"sk-serial\"><div class=\"sk-item\"><div class=\"sk-estimator sk-toggleable\"><input class=\"sk-toggleable__control sk-hidden--visually\" id=\"344cd968-2355-490d-ba82-3c2eaf2ce611\" type=\"checkbox\" ><label for=\"344cd968-2355-490d-ba82-3c2eaf2ce611\" class=\"sk-toggleable__label sk-toggleable__label-arrow\">SimpleImputer</label><div class=\"sk-toggleable__content\"><pre>SimpleImputer(strategy=&#x27;most_frequent&#x27;)</pre></div></div></div><div class=\"sk-item\"><div class=\"sk-estimator sk-toggleable\"><input class=\"sk-toggleable__control sk-hidden--visually\" id=\"9fc827e6-db4d-4424-8dcc-4fcab7e1643a\" type=\"checkbox\" ><label for=\"9fc827e6-db4d-4424-8dcc-4fcab7e1643a\" class=\"sk-toggleable__label sk-toggleable__label-arrow\">OneHotEncoder</label><div class=\"sk-toggleable__content\"><pre>OneHotEncoder(handle_unknown=&#x27;ignore&#x27;, sparse=False)</pre></div></div></div></div></div></div></div></div></div></div><div class=\"sk-item\"><div class=\"sk-estimator sk-toggleable\"><input class=\"sk-toggleable__control sk-hidden--visually\" id=\"5201da0d-769e-4b60-a804-245e46dfbee3\" type=\"checkbox\" ><label for=\"5201da0d-769e-4b60-a804-245e46dfbee3\" class=\"sk-toggleable__label sk-toggleable__label-arrow\">LinearRegression</label><div class=\"sk-toggleable__content\"><pre>LinearRegression()</pre></div></div></div></div></div></div></div>"
            ]
          },
          "metadata": {},
          "execution_count": 141
        }
      ]
    },
    {
      "cell_type": "markdown",
      "source": [
        "##y_hat Predictions"
      ],
      "metadata": {
        "id": "JzwLeAhVAqYY"
      }
    },
    {
      "cell_type": "code",
      "source": [
        "y_hat_train = linreg_pipe.predict(X_train)\n",
        "y_hat_test = linreg_pipe.predict(X_test)"
      ],
      "metadata": {
        "id": "Oicj6h6TAjHC"
      },
      "execution_count": 142,
      "outputs": []
    },
    {
      "cell_type": "markdown",
      "source": [
        "##Create Function to Evaluate Model"
      ],
      "metadata": {
        "id": "61sTTIVdA4vI"
      }
    },
    {
      "cell_type": "code",
      "source": [
        "def evaluate_model(y_true, y_pred, split='training'):\n",
        "  \"\"\" prints RMSE, and R2 metrics, include which data split was evaluated\n",
        "  \n",
        "  Args:\n",
        "    y_true: y-train or y-test\n",
        "    y_pred: result of model.predict(X)\n",
        "    split: which data split is being evaluate ['training','test']\n",
        "  \"\"\"\n",
        "  \n",
        "  r2 = r2_score(y_true,y_pred)\n",
        "  mae = mean_absolute_error(y_true,y_pred)\n",
        "  mse = mean_squared_error(y_true, y_pred)\n",
        "  rmse = mean_squared_error(y_true,y_pred,squared=False)\n",
        "\n",
        "  \n",
        "  print(f'Results for {split} data:')\n",
        "  print(f\"  - R^2 = {round(r2,3)}\")\n",
        "  print(f\"  - MAE = {round(mae,3)}\")\n",
        "  print(f\"  - MSE = {round(mse,3)}\")\n",
        "  print(f\"  - RMSE = {round(rmse,3)}\")\n",
        "  print()"
      ],
      "metadata": {
        "id": "fArDugX6AjEW"
      },
      "execution_count": 143,
      "outputs": []
    },
    {
      "cell_type": "markdown",
      "source": [
        "##Linear Regression Model"
      ],
      "metadata": {
        "id": "-OyujWciBR6F"
      }
    },
    {
      "cell_type": "code",
      "source": [
        "evaluate_model(y_train, y_hat_train,split='training')\n",
        "evaluate_model(y_test, y_hat_test,split='testing')"
      ],
      "metadata": {
        "colab": {
          "base_uri": "https://localhost:8080/"
        },
        "id": "g2PYH_-wAi_L",
        "outputId": "0426b950-ee59-4122-effe-062e57b3c335"
      },
      "execution_count": 144,
      "outputs": [
        {
          "output_type": "stream",
          "name": "stdout",
          "text": [
            "Results for training data:\n",
            "  - R^2 = 0.562\n",
            "  - MAE = 847.141\n",
            "  - MSE = 1297556.484\n",
            "  - RMSE = 1139.103\n",
            "\n",
            "Results for testing data:\n",
            "  - R^2 = 0.567\n",
            "  - MAE = 804.123\n",
            "  - MSE = 1194319.313\n",
            "  - RMSE = 1092.849\n",
            "\n"
          ]
        }
      ]
    },
    {
      "cell_type": "markdown",
      "source": [
        "##Linear Regression Model Observations:\n",
        "\n",
        "*   This model did not perform well on the training set or the testing set. Only 56% variance can be explained by this model.\n",
        "* RMSE suggests that the model is making consistant expected errors since it is not much larger than MAE.  This could indicate that there are not a lot of extremely large errors being made.\n",
        "*   This data does not appear to be well suited for a Linear Model.\n"
      ],
      "metadata": {
        "id": "XmK3qCyyBtot"
      }
    },
    {
      "cell_type": "markdown",
      "source": [
        "#Decision Tree Regressor Model"
      ],
      "metadata": {
        "id": "w-f0MTgVDBLg"
      }
    },
    {
      "cell_type": "markdown",
      "source": [
        "##Fitting Decision Tree Regressor Model"
      ],
      "metadata": {
        "id": "JSb4k8wODQA6"
      }
    },
    {
      "cell_type": "code",
      "source": [
        "#fit\n",
        "dec_tree_pipe = make_pipeline(preprocessor,DecisionTreeRegressor(random_state = 42))\n",
        "dec_tree_pipe.fit(X_train, y_train)\n",
        "\n",
        "#predictions for training and test data\n",
        "y_hat_train = dec_tree_pipe.predict(X_train)\n",
        "y_hat_test = dec_tree_pipe.predict(X_test)"
      ],
      "metadata": {
        "id": "-xYbWaBpAi8D"
      },
      "execution_count": 145,
      "outputs": []
    },
    {
      "cell_type": "markdown",
      "source": [
        "##Evaluate Decision Tree Regressor Model"
      ],
      "metadata": {
        "id": "jDqgeUhDDhGy"
      }
    },
    {
      "cell_type": "code",
      "source": [
        "evaluate_model(y_train, y_hat_train,split='training')\n",
        "evaluate_model(y_test, y_hat_test,split='testing')"
      ],
      "metadata": {
        "colab": {
          "base_uri": "https://localhost:8080/"
        },
        "id": "ssGNrV1UAixL",
        "outputId": "6cca5d3d-b11b-413a-a56b-a50c053653fc"
      },
      "execution_count": 146,
      "outputs": [
        {
          "output_type": "stream",
          "name": "stdout",
          "text": [
            "Results for training data:\n",
            "  - R^2 = 1.0\n",
            "  - MAE = 0.0\n",
            "  - MSE = 0.0\n",
            "  - RMSE = 0.0\n",
            "\n",
            "Results for testing data:\n",
            "  - R^2 = 0.165\n",
            "  - MAE = 1052.925\n",
            "  - MSE = 2304623.944\n",
            "  - RMSE = 1518.099\n",
            "\n"
          ]
        }
      ]
    },
    {
      "cell_type": "markdown",
      "source": [
        "## Decision Tree Regressor with Default Parameters Observations:\n",
        "\n",
        "\n",
        "*   This model performs perfectly on the training data. However, it performs poorly on the testing data.\n",
        "*  RMSE is higher than MAE, but not to a point to suggest huge errors are being made.\n",
        "*   This model is overfit and will need tuning.\n",
        "\n"
      ],
      "metadata": {
        "id": "Yelp5xdMGQl3"
      }
    },
    {
      "cell_type": "markdown",
      "source": [
        "##Create Loop to Tune Depth of Decision Tree Regressor Model"
      ],
      "metadata": {
        "id": "LaW27PNfGySD"
      }
    },
    {
      "cell_type": "code",
      "source": [
        "\n",
        "depths = range(1, dec_tree_pipe['decisiontreeregressor'].get_depth())\n",
        "scores = pd.DataFrame(columns=['Train', 'Test'], index=depths)\n",
        "\n",
        "for n in depths:\n",
        "  tree = DecisionTreeRegressor(random_state = 42, max_depth=n)\n",
        "  tree_pipe = make_pipeline(preprocessor, tree)\n",
        "  \n",
        "  tree_pipe.fit(X_train, y_train)\n",
        "  train_pred = tree_pipe.predict(X_train)\n",
        "  test_pred = tree_pipe.predict(X_test)\n",
        "  \n",
        "  train_r2score = r2_score(y_train, train_pred)\n",
        "  test_r2score = r2_score(y_test, test_pred)\n",
        "  \n",
        "  scores.loc[n, 'Train'] = train_r2score\n",
        "  scores.loc[n, 'Test'] = test_r2score"
      ],
      "metadata": {
        "id": "Fdn23QJ0IpkT"
      },
      "execution_count": 147,
      "outputs": []
    },
    {
      "cell_type": "markdown",
      "source": [
        "##Print out scores "
      ],
      "metadata": {
        "id": "zIitC8rfL5Di"
      }
    },
    {
      "cell_type": "code",
      "source": [
        "scores"
      ],
      "metadata": {
        "colab": {
          "base_uri": "https://localhost:8080/",
          "height": 1000
        },
        "id": "ApWNF45AL8wE",
        "outputId": "adb871fa-b1b3-4d03-b5ec-696d39ec2b3c"
      },
      "execution_count": 148,
      "outputs": [
        {
          "output_type": "execute_result",
          "data": {
            "text/plain": [
              "       Train      Test\n",
              "1   0.237797  0.229683\n",
              "2   0.431641  0.433778\n",
              "3   0.524218  0.524222\n",
              "4   0.582625  0.584005\n",
              "5    0.60394   0.59471\n",
              "6   0.615161  0.582274\n",
              "7   0.626841  0.578452\n",
              "8   0.643909   0.56117\n",
              "9    0.66513  0.549629\n",
              "10    0.6863  0.532824\n",
              "11  0.711867  0.511645\n",
              "12  0.740585   0.47258\n",
              "13  0.772527  0.441963\n",
              "14   0.80286  0.406282\n",
              "15  0.831698  0.357629\n",
              "16  0.858275  0.347734\n",
              "17  0.882522  0.324917\n",
              "18  0.903901  0.259479\n",
              "19  0.923014  0.263467\n",
              "20  0.938871  0.262626\n",
              "21  0.951611  0.249349\n",
              "22    0.9603  0.228746\n",
              "23  0.969668  0.215295\n",
              "24  0.976865  0.209615\n",
              "25  0.982187  0.191464\n",
              "26  0.986738   0.21038\n",
              "27  0.990598   0.19053\n",
              "28  0.993393  0.195849\n",
              "29  0.995004  0.203162\n",
              "30  0.996703  0.191129\n",
              "31  0.997881  0.200701\n",
              "32  0.998622  0.177521\n",
              "33  0.998945  0.165976\n",
              "34  0.999171  0.181912\n",
              "35  0.999456  0.186599\n",
              "36   0.99958  0.186348\n",
              "37  0.999748  0.181849\n",
              "38  0.999853  0.155553\n",
              "39  0.999923  0.166158\n",
              "40  0.999967  0.180358\n",
              "41  0.999989  0.173831\n",
              "42  0.999998  0.174902\n",
              "43       1.0  0.184006"
            ],
            "text/html": [
              "\n",
              "  <div id=\"df-7bf95294-b61e-4f0c-8af2-62e26443273f\">\n",
              "    <div class=\"colab-df-container\">\n",
              "      <div>\n",
              "<style scoped>\n",
              "    .dataframe tbody tr th:only-of-type {\n",
              "        vertical-align: middle;\n",
              "    }\n",
              "\n",
              "    .dataframe tbody tr th {\n",
              "        vertical-align: top;\n",
              "    }\n",
              "\n",
              "    .dataframe thead th {\n",
              "        text-align: right;\n",
              "    }\n",
              "</style>\n",
              "<table border=\"1\" class=\"dataframe\">\n",
              "  <thead>\n",
              "    <tr style=\"text-align: right;\">\n",
              "      <th></th>\n",
              "      <th>Train</th>\n",
              "      <th>Test</th>\n",
              "    </tr>\n",
              "  </thead>\n",
              "  <tbody>\n",
              "    <tr>\n",
              "      <th>1</th>\n",
              "      <td>0.237797</td>\n",
              "      <td>0.229683</td>\n",
              "    </tr>\n",
              "    <tr>\n",
              "      <th>2</th>\n",
              "      <td>0.431641</td>\n",
              "      <td>0.433778</td>\n",
              "    </tr>\n",
              "    <tr>\n",
              "      <th>3</th>\n",
              "      <td>0.524218</td>\n",
              "      <td>0.524222</td>\n",
              "    </tr>\n",
              "    <tr>\n",
              "      <th>4</th>\n",
              "      <td>0.582625</td>\n",
              "      <td>0.584005</td>\n",
              "    </tr>\n",
              "    <tr>\n",
              "      <th>5</th>\n",
              "      <td>0.60394</td>\n",
              "      <td>0.59471</td>\n",
              "    </tr>\n",
              "    <tr>\n",
              "      <th>6</th>\n",
              "      <td>0.615161</td>\n",
              "      <td>0.582274</td>\n",
              "    </tr>\n",
              "    <tr>\n",
              "      <th>7</th>\n",
              "      <td>0.626841</td>\n",
              "      <td>0.578452</td>\n",
              "    </tr>\n",
              "    <tr>\n",
              "      <th>8</th>\n",
              "      <td>0.643909</td>\n",
              "      <td>0.56117</td>\n",
              "    </tr>\n",
              "    <tr>\n",
              "      <th>9</th>\n",
              "      <td>0.66513</td>\n",
              "      <td>0.549629</td>\n",
              "    </tr>\n",
              "    <tr>\n",
              "      <th>10</th>\n",
              "      <td>0.6863</td>\n",
              "      <td>0.532824</td>\n",
              "    </tr>\n",
              "    <tr>\n",
              "      <th>11</th>\n",
              "      <td>0.711867</td>\n",
              "      <td>0.511645</td>\n",
              "    </tr>\n",
              "    <tr>\n",
              "      <th>12</th>\n",
              "      <td>0.740585</td>\n",
              "      <td>0.47258</td>\n",
              "    </tr>\n",
              "    <tr>\n",
              "      <th>13</th>\n",
              "      <td>0.772527</td>\n",
              "      <td>0.441963</td>\n",
              "    </tr>\n",
              "    <tr>\n",
              "      <th>14</th>\n",
              "      <td>0.80286</td>\n",
              "      <td>0.406282</td>\n",
              "    </tr>\n",
              "    <tr>\n",
              "      <th>15</th>\n",
              "      <td>0.831698</td>\n",
              "      <td>0.357629</td>\n",
              "    </tr>\n",
              "    <tr>\n",
              "      <th>16</th>\n",
              "      <td>0.858275</td>\n",
              "      <td>0.347734</td>\n",
              "    </tr>\n",
              "    <tr>\n",
              "      <th>17</th>\n",
              "      <td>0.882522</td>\n",
              "      <td>0.324917</td>\n",
              "    </tr>\n",
              "    <tr>\n",
              "      <th>18</th>\n",
              "      <td>0.903901</td>\n",
              "      <td>0.259479</td>\n",
              "    </tr>\n",
              "    <tr>\n",
              "      <th>19</th>\n",
              "      <td>0.923014</td>\n",
              "      <td>0.263467</td>\n",
              "    </tr>\n",
              "    <tr>\n",
              "      <th>20</th>\n",
              "      <td>0.938871</td>\n",
              "      <td>0.262626</td>\n",
              "    </tr>\n",
              "    <tr>\n",
              "      <th>21</th>\n",
              "      <td>0.951611</td>\n",
              "      <td>0.249349</td>\n",
              "    </tr>\n",
              "    <tr>\n",
              "      <th>22</th>\n",
              "      <td>0.9603</td>\n",
              "      <td>0.228746</td>\n",
              "    </tr>\n",
              "    <tr>\n",
              "      <th>23</th>\n",
              "      <td>0.969668</td>\n",
              "      <td>0.215295</td>\n",
              "    </tr>\n",
              "    <tr>\n",
              "      <th>24</th>\n",
              "      <td>0.976865</td>\n",
              "      <td>0.209615</td>\n",
              "    </tr>\n",
              "    <tr>\n",
              "      <th>25</th>\n",
              "      <td>0.982187</td>\n",
              "      <td>0.191464</td>\n",
              "    </tr>\n",
              "    <tr>\n",
              "      <th>26</th>\n",
              "      <td>0.986738</td>\n",
              "      <td>0.21038</td>\n",
              "    </tr>\n",
              "    <tr>\n",
              "      <th>27</th>\n",
              "      <td>0.990598</td>\n",
              "      <td>0.19053</td>\n",
              "    </tr>\n",
              "    <tr>\n",
              "      <th>28</th>\n",
              "      <td>0.993393</td>\n",
              "      <td>0.195849</td>\n",
              "    </tr>\n",
              "    <tr>\n",
              "      <th>29</th>\n",
              "      <td>0.995004</td>\n",
              "      <td>0.203162</td>\n",
              "    </tr>\n",
              "    <tr>\n",
              "      <th>30</th>\n",
              "      <td>0.996703</td>\n",
              "      <td>0.191129</td>\n",
              "    </tr>\n",
              "    <tr>\n",
              "      <th>31</th>\n",
              "      <td>0.997881</td>\n",
              "      <td>0.200701</td>\n",
              "    </tr>\n",
              "    <tr>\n",
              "      <th>32</th>\n",
              "      <td>0.998622</td>\n",
              "      <td>0.177521</td>\n",
              "    </tr>\n",
              "    <tr>\n",
              "      <th>33</th>\n",
              "      <td>0.998945</td>\n",
              "      <td>0.165976</td>\n",
              "    </tr>\n",
              "    <tr>\n",
              "      <th>34</th>\n",
              "      <td>0.999171</td>\n",
              "      <td>0.181912</td>\n",
              "    </tr>\n",
              "    <tr>\n",
              "      <th>35</th>\n",
              "      <td>0.999456</td>\n",
              "      <td>0.186599</td>\n",
              "    </tr>\n",
              "    <tr>\n",
              "      <th>36</th>\n",
              "      <td>0.99958</td>\n",
              "      <td>0.186348</td>\n",
              "    </tr>\n",
              "    <tr>\n",
              "      <th>37</th>\n",
              "      <td>0.999748</td>\n",
              "      <td>0.181849</td>\n",
              "    </tr>\n",
              "    <tr>\n",
              "      <th>38</th>\n",
              "      <td>0.999853</td>\n",
              "      <td>0.155553</td>\n",
              "    </tr>\n",
              "    <tr>\n",
              "      <th>39</th>\n",
              "      <td>0.999923</td>\n",
              "      <td>0.166158</td>\n",
              "    </tr>\n",
              "    <tr>\n",
              "      <th>40</th>\n",
              "      <td>0.999967</td>\n",
              "      <td>0.180358</td>\n",
              "    </tr>\n",
              "    <tr>\n",
              "      <th>41</th>\n",
              "      <td>0.999989</td>\n",
              "      <td>0.173831</td>\n",
              "    </tr>\n",
              "    <tr>\n",
              "      <th>42</th>\n",
              "      <td>0.999998</td>\n",
              "      <td>0.174902</td>\n",
              "    </tr>\n",
              "    <tr>\n",
              "      <th>43</th>\n",
              "      <td>1.0</td>\n",
              "      <td>0.184006</td>\n",
              "    </tr>\n",
              "  </tbody>\n",
              "</table>\n",
              "</div>\n",
              "      <button class=\"colab-df-convert\" onclick=\"convertToInteractive('df-7bf95294-b61e-4f0c-8af2-62e26443273f')\"\n",
              "              title=\"Convert this dataframe to an interactive table.\"\n",
              "              style=\"display:none;\">\n",
              "        \n",
              "  <svg xmlns=\"http://www.w3.org/2000/svg\" height=\"24px\"viewBox=\"0 0 24 24\"\n",
              "       width=\"24px\">\n",
              "    <path d=\"M0 0h24v24H0V0z\" fill=\"none\"/>\n",
              "    <path d=\"M18.56 5.44l.94 2.06.94-2.06 2.06-.94-2.06-.94-.94-2.06-.94 2.06-2.06.94zm-11 1L8.5 8.5l.94-2.06 2.06-.94-2.06-.94L8.5 2.5l-.94 2.06-2.06.94zm10 10l.94 2.06.94-2.06 2.06-.94-2.06-.94-.94-2.06-.94 2.06-2.06.94z\"/><path d=\"M17.41 7.96l-1.37-1.37c-.4-.4-.92-.59-1.43-.59-.52 0-1.04.2-1.43.59L10.3 9.45l-7.72 7.72c-.78.78-.78 2.05 0 2.83L4 21.41c.39.39.9.59 1.41.59.51 0 1.02-.2 1.41-.59l7.78-7.78 2.81-2.81c.8-.78.8-2.07 0-2.86zM5.41 20L4 18.59l7.72-7.72 1.47 1.35L5.41 20z\"/>\n",
              "  </svg>\n",
              "      </button>\n",
              "      \n",
              "  <style>\n",
              "    .colab-df-container {\n",
              "      display:flex;\n",
              "      flex-wrap:wrap;\n",
              "      gap: 12px;\n",
              "    }\n",
              "\n",
              "    .colab-df-convert {\n",
              "      background-color: #E8F0FE;\n",
              "      border: none;\n",
              "      border-radius: 50%;\n",
              "      cursor: pointer;\n",
              "      display: none;\n",
              "      fill: #1967D2;\n",
              "      height: 32px;\n",
              "      padding: 0 0 0 0;\n",
              "      width: 32px;\n",
              "    }\n",
              "\n",
              "    .colab-df-convert:hover {\n",
              "      background-color: #E2EBFA;\n",
              "      box-shadow: 0px 1px 2px rgba(60, 64, 67, 0.3), 0px 1px 3px 1px rgba(60, 64, 67, 0.15);\n",
              "      fill: #174EA6;\n",
              "    }\n",
              "\n",
              "    [theme=dark] .colab-df-convert {\n",
              "      background-color: #3B4455;\n",
              "      fill: #D2E3FC;\n",
              "    }\n",
              "\n",
              "    [theme=dark] .colab-df-convert:hover {\n",
              "      background-color: #434B5C;\n",
              "      box-shadow: 0px 1px 3px 1px rgba(0, 0, 0, 0.15);\n",
              "      filter: drop-shadow(0px 1px 2px rgba(0, 0, 0, 0.3));\n",
              "      fill: #FFFFFF;\n",
              "    }\n",
              "  </style>\n",
              "\n",
              "      <script>\n",
              "        const buttonEl =\n",
              "          document.querySelector('#df-7bf95294-b61e-4f0c-8af2-62e26443273f button.colab-df-convert');\n",
              "        buttonEl.style.display =\n",
              "          google.colab.kernel.accessAllowed ? 'block' : 'none';\n",
              "\n",
              "        async function convertToInteractive(key) {\n",
              "          const element = document.querySelector('#df-7bf95294-b61e-4f0c-8af2-62e26443273f');\n",
              "          const dataTable =\n",
              "            await google.colab.kernel.invokeFunction('convertToInteractive',\n",
              "                                                     [key], {});\n",
              "          if (!dataTable) return;\n",
              "\n",
              "          const docLinkHtml = 'Like what you see? Visit the ' +\n",
              "            '<a target=\"_blank\" href=https://colab.research.google.com/notebooks/data_table.ipynb>data table notebook</a>'\n",
              "            + ' to learn more about interactive tables.';\n",
              "          element.innerHTML = '';\n",
              "          dataTable['output_type'] = 'display_data';\n",
              "          await google.colab.output.renderOutput(dataTable, element);\n",
              "          const docLink = document.createElement('div');\n",
              "          docLink.innerHTML = docLinkHtml;\n",
              "          element.appendChild(docLink);\n",
              "        }\n",
              "      </script>\n",
              "    </div>\n",
              "  </div>\n",
              "  "
            ]
          },
          "metadata": {},
          "execution_count": 148
        }
      ]
    },
    {
      "cell_type": "markdown",
      "source": [
        "##Plot Scores"
      ],
      "metadata": {
        "id": "c6xIdLSpMnKM"
      }
    },
    {
      "cell_type": "code",
      "source": [
        "#plot the scores to visually determine the best max_depth\n",
        "plt.plot(depths, scores['Train'], label = 'train')\n",
        "plt.plot(depths, scores['Test'], label = 'test')\n",
        "plt.ylabel('R2 Scores')\n",
        "plt.xlabel('Max Depths')\n",
        "plt.legend()\n",
        "plt.show()"
      ],
      "metadata": {
        "colab": {
          "base_uri": "https://localhost:8080/",
          "height": 279
        },
        "id": "bF5n85IeMpqO",
        "outputId": "91190d59-18d0-4fe4-dfe5-0c1932dce8d7"
      },
      "execution_count": 149,
      "outputs": [
        {
          "output_type": "display_data",
          "data": {
            "text/plain": [
              "<Figure size 432x288 with 1 Axes>"
            ],
            "image/png": "[encoded data removed]"
          },
          "metadata": {
            "needs_background": "light"
          }
        }
      ]
    },
    {
      "cell_type": "markdown",
      "source": [
        "## Find the Optimal max_depth for the Decision Tree Regressor Model"
      ],
      "metadata": {
        "id": "JBpJP6wTNloK"
      }
    },
    {
      "cell_type": "code",
      "source": [
        "best_depth = scores.sort_values(by='Test', ascending=False).index[0]\n",
        "best_depth"
      ],
      "metadata": {
        "colab": {
          "base_uri": "https://localhost:8080/"
        },
        "id": "B7YE4iboNr5u",
        "outputId": "bb40a8c5-e84b-40c1-8408-e2d463a25811"
      },
      "execution_count": 150,
      "outputs": [
        {
          "output_type": "execute_result",
          "data": {
            "text/plain": [
              "5"
            ]
          },
          "metadata": {},
          "execution_count": 150
        }
      ]
    },
    {
      "cell_type": "markdown",
      "source": [
        "##Create & Evaluate Final Decision Tree Regressor Model"
      ],
      "metadata": {
        "id": "HNt9u-X7OHYq"
      }
    },
    {
      "cell_type": "code",
      "source": [
        "best_tree = DecisionTreeRegressor(random_state = 42, max_depth=best_depth)\n",
        "\n",
        "best_tree_pipe = make_pipeline(preprocessor, best_tree)\n",
        "\n",
        "best_tree_pipe.fit(X_train, y_train)\n",
        "\n",
        "print('Training Scores for High Variance Decision Tree')\n",
        "evaluate_model(y_train, best_tree_pipe.predict(X_train), split = 'training')\n",
        "\n",
        "print('\\n')\n",
        "\n",
        "print('Testing Scores for High Variance Decision Tree')\n",
        "evaluate_model(y_test, best_tree_pipe.predict(X_test), split = 'testing')"
      ],
      "metadata": {
        "colab": {
          "base_uri": "https://localhost:8080/"
        },
        "id": "xg9uD0wnOQ16",
        "outputId": "9e216759-af3f-4c3e-a0f0-2193a1d8ca12"
      },
      "execution_count": 151,
      "outputs": [
        {
          "output_type": "stream",
          "name": "stdout",
          "text": [
            "Training Scores for High Variance Decision Tree\n",
            "Results for training data:\n",
            "  - R^2 = 0.604\n",
            "  - MAE = 762.61\n",
            "  - MSE = 1172122.773\n",
            "  - RMSE = 1082.646\n",
            "\n",
            "\n",
            "\n",
            "Testing Scores for High Variance Decision Tree\n",
            "Results for testing data:\n",
            "  - R^2 = 0.595\n",
            "  - MAE = 738.317\n",
            "  - MSE = 1118185.973\n",
            "  - RMSE = 1057.443\n",
            "\n"
          ]
        }
      ]
    },
    {
      "cell_type": "markdown",
      "source": [
        "##Tuned Decision Tree Regressor Model Observations:\n",
        "\n",
        "\n",
        "\n",
        "*   Tuning the max depth on the model greatly improved the testing score while descreasing the training score.\n",
        "*   Even after tuning max depth, this model still shows high bias.\n",
        "* RMSE continues to suggest the model is making expected errors over individually high errors.\n"
      ],
      "metadata": {
        "id": "IWqsA6a_Oqin"
      }
    }
  ]
}